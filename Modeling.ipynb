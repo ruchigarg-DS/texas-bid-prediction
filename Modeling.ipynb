{
 "cells": [
  {
   "cell_type": "code",
   "execution_count": 83,
   "metadata": {},
   "outputs": [],
   "source": [
    "import pandas as pd\n",
    "import numpy as np\n",
    "import seaborn as sns\n",
    "import matplotlib.pyplot as plt\n",
    "pd.set_option('max_colwidth', 800)  # dispalys complete text\n",
    "pd.set_option('float_format', '{:.2f}'.format) # displays float with 2 decimal spaces\n",
    "\n",
    "from sklearn.preprocessing import StandardScaler\n",
    "from sklearn.model_selection import train_test_split, KFold, cross_val_score,cross_val_predict\n",
    "from sklearn.metrics import confusion_matrix, mean_squared_error, r2_score\n",
    "from sklearn.linear_model import LinearRegression"
   ]
  },
  {
   "cell_type": "code",
   "execution_count": 84,
   "metadata": {},
   "outputs": [
    {
     "data": {
      "text/html": [
       "<div>\n",
       "<style scoped>\n",
       "    .dataframe tbody tr th:only-of-type {\n",
       "        vertical-align: middle;\n",
       "    }\n",
       "\n",
       "    .dataframe tbody tr th {\n",
       "        vertical-align: top;\n",
       "    }\n",
       "\n",
       "    .dataframe thead th {\n",
       "        text-align: right;\n",
       "    }\n",
       "</style>\n",
       "<table border=\"1\" class=\"dataframe\">\n",
       "  <thead>\n",
       "    <tr style=\"text-align: right;\">\n",
       "      <th></th>\n",
       "      <th>proj_ID</th>\n",
       "      <th>seq_no</th>\n",
       "      <th>time</th>\n",
       "      <th>estimate</th>\n",
       "      <th>let_date</th>\n",
       "      <th>length</th>\n",
       "      <th>winner</th>\n",
       "      <th>win_amt</th>\n",
       "      <th>num_bids</th>\n",
       "      <th>bid_spread</th>\n",
       "      <th>compiled_bids</th>\n",
       "      <th>county</th>\n",
       "      <th>month</th>\n",
       "    </tr>\n",
       "  </thead>\n",
       "  <tbody>\n",
       "    <tr>\n",
       "      <th>0</th>\n",
       "      <td>NH 1602(247)</td>\n",
       "      <td>3001</td>\n",
       "      <td>1000</td>\n",
       "      <td>85290427.93</td>\n",
       "      <td>12/1/2016</td>\n",
       "      <td>0.39</td>\n",
       "      <td>WILLIAMS BROTHERS CONSTRUCTION CO. INC.</td>\n",
       "      <td>73929401.69</td>\n",
       "      <td>7</td>\n",
       "      <td>13677444.11</td>\n",
       "      <td>PULICE CONSTRUCTION INC. | $83,702,317.31; THE LANE CONSTRUCTION CORPORATION | $84,156,037.80; WILLIAMS BROTHERS CONSTRUCTION CO. INC. | $73,929,401.69; FLATIRON CONSTRUCTORS INC. | $79,922,832.75; WEBBER LLC | $87,606,845.80; ZACHRY CONSTRUCTION CORPORATION | $85,982,411.71; MCCARTHY BUILDING COMPANIES INC. | $86,132,345.12</td>\n",
       "      <td>BEXAR</td>\n",
       "      <td>12</td>\n",
       "    </tr>\n",
       "    <tr>\n",
       "      <th>1</th>\n",
       "      <td>NH 2017(364)</td>\n",
       "      <td>3005</td>\n",
       "      <td>70</td>\n",
       "      <td>9271227.00</td>\n",
       "      <td>12/1/2016</td>\n",
       "      <td>245.98</td>\n",
       "      <td>LIPHAM ASPHALT AND PAVING COMPANY LLC</td>\n",
       "      <td>8458527.23</td>\n",
       "      <td>4</td>\n",
       "      <td>980483.12</td>\n",
       "      <td>NORTHEASTERN PAVERS INC. | $8,685,268.42; MISSOURI PETROLEUM PRODUCTS COMPANY LLC | $9,108,664.77; BRANNAN PAVING CO. LTD. | $9,439,010.35; LIPHAM ASPHALT AND PAVING COMPANY LLC | $8,458,527.23</td>\n",
       "      <td>CALLAHAN</td>\n",
       "      <td>12</td>\n",
       "    </tr>\n",
       "  </tbody>\n",
       "</table>\n",
       "</div>"
      ],
      "text/plain": [
       "        proj_ID  seq_no  time    estimate   let_date  length  \\\n",
       "0  NH 1602(247)    3001  1000 85290427.93  12/1/2016    0.39   \n",
       "1  NH 2017(364)    3005    70  9271227.00  12/1/2016  245.98   \n",
       "\n",
       "                                    winner     win_amt  num_bids  bid_spread  \\\n",
       "0  WILLIAMS BROTHERS CONSTRUCTION CO. INC. 73929401.69         7 13677444.11   \n",
       "1    LIPHAM ASPHALT AND PAVING COMPANY LLC  8458527.23         4   980483.12   \n",
       "\n",
       "                                                                                                                                                                                                                                                                                                                            compiled_bids  \\\n",
       "0  PULICE CONSTRUCTION INC. | $83,702,317.31; THE LANE CONSTRUCTION CORPORATION | $84,156,037.80; WILLIAMS BROTHERS CONSTRUCTION CO. INC. | $73,929,401.69; FLATIRON CONSTRUCTORS INC. | $79,922,832.75; WEBBER LLC | $87,606,845.80; ZACHRY CONSTRUCTION CORPORATION | $85,982,411.71; MCCARTHY BUILDING COMPANIES INC. | $86,132,345.12   \n",
       "1                                                                                                                                       NORTHEASTERN PAVERS INC. | $8,685,268.42; MISSOURI PETROLEUM PRODUCTS COMPANY LLC | $9,108,664.77; BRANNAN PAVING CO. LTD. | $9,439,010.35; LIPHAM ASPHALT AND PAVING COMPANY LLC | $8,458,527.23   \n",
       "\n",
       "     county  month  \n",
       "0     BEXAR     12  \n",
       "1  CALLAHAN     12  "
      ]
     },
     "execution_count": 84,
     "metadata": {},
     "output_type": "execute_result"
    }
   ],
   "source": [
    "np.random.seed(42)\n",
    "# Read the excel sheet using pandas\n",
    "bidsData = pd.read_csv('Dataset/cleaned_bids.csv')\n",
    "\n",
    "# display the 1st 2 rows\n",
    "bidsData.head(2)"
   ]
  },
  {
   "cell_type": "markdown",
   "metadata": {},
   "source": [
    "## Modeling"
   ]
  },
  {
   "cell_type": "code",
   "execution_count": 85,
   "metadata": {},
   "outputs": [],
   "source": [
    "ss = StandardScaler()\n",
    "\n",
    "X = bidsData[['time', 'estimate', 'length', 'num_bids']]\n",
    "y = bidsData['win_amt']"
   ]
  },
  {
   "cell_type": "markdown",
   "metadata": {},
   "source": [
    "### Test size as 0.5"
   ]
  },
  {
   "cell_type": "code",
   "execution_count": 86,
   "metadata": {},
   "outputs": [
    {
     "name": "stdout",
     "output_type": "stream",
     "text": [
      "Train score:  0.9953329514493013 Test Score:  0.9858221539635655\n",
      "CVV as 5:  [0.99030509 0.99373337 0.97295265 0.98725596 0.98607919]\n",
      "Mean Square error is : 1871125.0279957845\n",
      "R^2 score is : 0.9858221539635655\n",
      "Cross Val score:  0.992232327547673\n"
     ]
    },
    {
     "data": {
      "image/png": "[encoded data removed]",
      "text/plain": [
       "<matplotlib.figure.Figure at 0x1a14115eb8>"
      ]
     },
     "metadata": {},
     "output_type": "display_data"
    }
   ],
   "source": [
    "#  Train-test split\n",
    "X_train, X_test, y_train, y_test = train_test_split(X, y, test_size = 0.5)\n",
    "\n",
    "lr = LinearRegression()\n",
    "lr.fit(X, y)\n",
    "\n",
    "model = ss.fit_transform(X_train, y_train)\n",
    "print('Train score: ', lr.score(X_train, y_train), 'Test Score: ', lr.score(X_test, y_test))\n",
    "\n",
    "#  Plot predictions\n",
    "predictions = lr.predict(X_test)\n",
    "\n",
    "plt.scatter(y_test, predictions)\n",
    "plt.xlabel('y_test')\n",
    "\n",
    "plt.ylabel('predictions')\n",
    "\n",
    "# CVV, MSE ad R2 score\n",
    "print('CVV as 5: ', cross_val_score(lr, X_test, y_test, cv=5))\n",
    "print(\"Mean Square error is :\", np.sqrt(mean_squared_error(y_test, lr.predict(X_test))))\n",
    "print(\"R^2 score is :\", r2_score(y_test, lr.predict(X_test)))\n",
    "pd.DataFrame({'variable': X.columns, f'_coefficient': lr.coef_}).sort_values(by=f'_coefficient')\n",
    "\n",
    "print(\"Cross Val score: \", cross_val_score(LinearRegression(), X_train, y_train, cv=5).mean())\n"
   ]
  },
  {
   "cell_type": "code",
   "execution_count": 87,
   "metadata": {},
   "outputs": [
    {
     "data": {
      "text/html": [
       "<div>\n",
       "<style scoped>\n",
       "    .dataframe tbody tr th:only-of-type {\n",
       "        vertical-align: middle;\n",
       "    }\n",
       "\n",
       "    .dataframe tbody tr th {\n",
       "        vertical-align: top;\n",
       "    }\n",
       "\n",
       "    .dataframe thead th {\n",
       "        text-align: right;\n",
       "    }\n",
       "</style>\n",
       "<table border=\"1\" class=\"dataframe\">\n",
       "  <thead>\n",
       "    <tr style=\"text-align: right;\">\n",
       "      <th></th>\n",
       "      <th>time</th>\n",
       "      <th>estimate</th>\n",
       "      <th>length</th>\n",
       "      <th>num_bids</th>\n",
       "      <th>Prediction</th>\n",
       "      <th>Actual</th>\n",
       "      <th>Variance</th>\n",
       "    </tr>\n",
       "  </thead>\n",
       "  <tbody>\n",
       "    <tr>\n",
       "      <th>940</th>\n",
       "      <td>84</td>\n",
       "      <td>3526078.05</td>\n",
       "      <td>3.37</td>\n",
       "      <td>4</td>\n",
       "      <td>3287602.68</td>\n",
       "      <td>2807514.44</td>\n",
       "      <td>480088.24</td>\n",
       "    </tr>\n",
       "    <tr>\n",
       "      <th>986</th>\n",
       "      <td>280</td>\n",
       "      <td>5208994.70</td>\n",
       "      <td>0.53</td>\n",
       "      <td>6</td>\n",
       "      <td>4968163.98</td>\n",
       "      <td>4253525.11</td>\n",
       "      <td>714638.87</td>\n",
       "    </tr>\n",
       "    <tr>\n",
       "      <th>405</th>\n",
       "      <td>120</td>\n",
       "      <td>475030.50</td>\n",
       "      <td>0.01</td>\n",
       "      <td>3</td>\n",
       "      <td>385506.42</td>\n",
       "      <td>455673.00</td>\n",
       "      <td>-70166.58</td>\n",
       "    </tr>\n",
       "    <tr>\n",
       "      <th>721</th>\n",
       "      <td>240</td>\n",
       "      <td>1919491.30</td>\n",
       "      <td>0.20</td>\n",
       "      <td>2</td>\n",
       "      <td>1986648.57</td>\n",
       "      <td>1699468.02</td>\n",
       "      <td>287180.55</td>\n",
       "    </tr>\n",
       "    <tr>\n",
       "      <th>1610</th>\n",
       "      <td>360</td>\n",
       "      <td>12492719.18</td>\n",
       "      <td>11.44</td>\n",
       "      <td>5</td>\n",
       "      <td>12287179.84</td>\n",
       "      <td>11187471.33</td>\n",
       "      <td>1099708.51</td>\n",
       "    </tr>\n",
       "  </tbody>\n",
       "</table>\n",
       "</div>"
      ],
      "text/plain": [
       "      time    estimate  length  num_bids  Prediction      Actual   Variance\n",
       "940     84  3526078.05    3.37         4  3287602.68  2807514.44  480088.24\n",
       "986    280  5208994.70    0.53         6  4968163.98  4253525.11  714638.87\n",
       "405    120   475030.50    0.01         3   385506.42   455673.00  -70166.58\n",
       "721    240  1919491.30    0.20         2  1986648.57  1699468.02  287180.55\n",
       "1610   360 12492719.18   11.44         5 12287179.84 11187471.33 1099708.51"
      ]
     },
     "execution_count": 87,
     "metadata": {},
     "output_type": "execute_result"
    }
   ],
   "source": [
    "test_dataSet = X_test.copy()\n",
    "test_dataSet['Prediction']= predictions\n",
    "\n",
    "test_dataSet['Actual'] = y_test\n",
    "test_dataSet['Variance'] = predictions - y_test\n",
    "\n",
    "test_dataSet.head()"
   ]
  },
  {
   "cell_type": "code",
   "execution_count": 88,
   "metadata": {},
   "outputs": [
    {
     "name": "stdout",
     "output_type": "stream",
     "text": [
      "0.9816068506491046\n",
      "0.994826536737806\n",
      "0.9930608256636176\n"
     ]
    }
   ],
   "source": [
    "kf =KFold(n_splits=3, shuffle=True, random_state=42)\n",
    "\n",
    "for train_indices, test_indices in kf.split(X, y):\n",
    "#     print('train' ,train_indices)\n",
    "#     print('test' ,test_indices)\n",
    "#     print('')\n",
    "    X_train_fold = X.loc[train_indices, :] \n",
    "    X_test_fold = X.loc[test_indices, :]\n",
    "    y_train_fold = y[train_indices] \n",
    "    y_test_fold = y[test_indices]\n",
    "    fold_lr = LinearRegression()\n",
    "    fold_lr.fit(X_train_fold, y_train_fold)\n",
    "    print(fold_lr.score(X_test_fold, y_test_fold))"
   ]
  },
  {
   "cell_type": "markdown",
   "metadata": {},
   "source": [
    "### Test size as 0.3"
   ]
  },
  {
   "cell_type": "code",
   "execution_count": 89,
   "metadata": {},
   "outputs": [
    {
     "name": "stdout",
     "output_type": "stream",
     "text": [
      "Train score:  0.9889223591267489 Test Score:  0.9966295233357032\n",
      "CVV as 5:  [0.99437335 0.98446748 0.99909709 0.99491594 0.99763112]\n",
      "Mean Square error is : 1074348.4680082316\n",
      "R^2 score is : 0.9966295233357032\n",
      "Cross Val score:  0.9889615854995547\n"
     ]
    },
    {
     "data": {
      "image/png": "[encoded data removed]",
      "text/plain": [
       "<matplotlib.figure.Figure at 0x1a15382c50>"
      ]
     },
     "metadata": {},
     "output_type": "display_data"
    }
   ],
   "source": [
    "#  Train-test split\n",
    "X_train, X_test, y_train, y_test = train_test_split(X, y, test_size = 0.3)\n",
    "\n",
    "lr = LinearRegression()\n",
    "lr.fit(X, y)\n",
    "\n",
    "model1 = ss.fit_transform(X_train, y_train)\n",
    "print('Train score: ', lr.score(X_train, y_train), 'Test Score: ', lr.score(X_test, y_test))\n",
    "\n",
    "#  Plot predictions\n",
    "predictions = lr.predict(X_test)\n",
    "\n",
    "plt.scatter(y_test, predictions)\n",
    "plt.xlabel('y_test')\n",
    "plt.ylabel('predictions')\n",
    "\n",
    "# CVV, MSE ad R2 score\n",
    "print('CVV as 5: ', cross_val_score(LinearRegression(), X_test, y_test, cv=5))\n",
    "print(\"Mean Square error is :\", np.sqrt(mean_squared_error(y_test, lr.predict(X_test))))\n",
    "print(\"R^2 score is :\", r2_score(y_test, lr.predict(X_test)))\n",
    "pd.DataFrame({'variable': X.columns, f'_coefficient': lr.coef_}).sort_values(by=f'_coefficient')\n",
    "print(\"Cross Val score: \", cross_val_score(LinearRegression(), X_train, y_train, cv=5).mean())\n"
   ]
  },
  {
   "cell_type": "code",
   "execution_count": 90,
   "metadata": {},
   "outputs": [
    {
     "data": {
      "text/html": [
       "<div>\n",
       "<style scoped>\n",
       "    .dataframe tbody tr th:only-of-type {\n",
       "        vertical-align: middle;\n",
       "    }\n",
       "\n",
       "    .dataframe tbody tr th {\n",
       "        vertical-align: top;\n",
       "    }\n",
       "\n",
       "    .dataframe thead th {\n",
       "        text-align: right;\n",
       "    }\n",
       "</style>\n",
       "<table border=\"1\" class=\"dataframe\">\n",
       "  <thead>\n",
       "    <tr style=\"text-align: right;\">\n",
       "      <th></th>\n",
       "      <th>time</th>\n",
       "      <th>estimate</th>\n",
       "      <th>length</th>\n",
       "      <th>num_bids</th>\n",
       "      <th>Prediction</th>\n",
       "      <th>Actual</th>\n",
       "      <th>Variance</th>\n",
       "    </tr>\n",
       "  </thead>\n",
       "  <tbody>\n",
       "    <tr>\n",
       "      <th>52</th>\n",
       "      <td>93</td>\n",
       "      <td>532514.13</td>\n",
       "      <td>0.20</td>\n",
       "      <td>6</td>\n",
       "      <td>196340.90</td>\n",
       "      <td>412715.00</td>\n",
       "      <td>-216374.10</td>\n",
       "    </tr>\n",
       "    <tr>\n",
       "      <th>679</th>\n",
       "      <td>86</td>\n",
       "      <td>1430045.50</td>\n",
       "      <td>1.26</td>\n",
       "      <td>6</td>\n",
       "      <td>1074906.30</td>\n",
       "      <td>1562281.63</td>\n",
       "      <td>-487375.33</td>\n",
       "    </tr>\n",
       "    <tr>\n",
       "      <th>969</th>\n",
       "      <td>548</td>\n",
       "      <td>905020.00</td>\n",
       "      <td>18.69</td>\n",
       "      <td>2</td>\n",
       "      <td>1235483.07</td>\n",
       "      <td>1174127.00</td>\n",
       "      <td>61356.07</td>\n",
       "    </tr>\n",
       "    <tr>\n",
       "      <th>1251</th>\n",
       "      <td>120</td>\n",
       "      <td>906325.50</td>\n",
       "      <td>0.01</td>\n",
       "      <td>5</td>\n",
       "      <td>662438.64</td>\n",
       "      <td>827634.40</td>\n",
       "      <td>-165195.76</td>\n",
       "    </tr>\n",
       "    <tr>\n",
       "      <th>203</th>\n",
       "      <td>187</td>\n",
       "      <td>2164831.00</td>\n",
       "      <td>16.34</td>\n",
       "      <td>6</td>\n",
       "      <td>1875077.28</td>\n",
       "      <td>1557630.87</td>\n",
       "      <td>317446.41</td>\n",
       "    </tr>\n",
       "  </tbody>\n",
       "</table>\n",
       "</div>"
      ],
      "text/plain": [
       "      time   estimate  length  num_bids  Prediction     Actual   Variance\n",
       "52      93  532514.13    0.20         6   196340.90  412715.00 -216374.10\n",
       "679     86 1430045.50    1.26         6  1074906.30 1562281.63 -487375.33\n",
       "969    548  905020.00   18.69         2  1235483.07 1174127.00   61356.07\n",
       "1251   120  906325.50    0.01         5   662438.64  827634.40 -165195.76\n",
       "203    187 2164831.00   16.34         6  1875077.28 1557630.87  317446.41"
      ]
     },
     "execution_count": 90,
     "metadata": {},
     "output_type": "execute_result"
    }
   ],
   "source": [
    "test_dataSet = X_test.copy()\n",
    "test_dataSet['Prediction']= predictions\n",
    "\n",
    "test_dataSet['Actual'] = y_test\n",
    "test_dataSet['Variance'] = predictions - y_test\n",
    "\n",
    "test_dataSet.head()"
   ]
  },
  {
   "cell_type": "code",
   "execution_count": 91,
   "metadata": {},
   "outputs": [
    {
     "name": "stdout",
     "output_type": "stream",
     "text": [
      "0.9816068506491046\n",
      "0.994826536737806\n",
      "0.9930608256636176\n"
     ]
    }
   ],
   "source": [
    "kf =KFold(n_splits=3, shuffle=True, random_state=42)\n",
    "\n",
    "for train_indices, test_indices in kf.split(X, y):\n",
    "#     print('train' ,train_indices)\n",
    "#     print('test' ,test_indices)\n",
    "#     print('')\n",
    "    X_train_fold = X.loc[train_indices, :] \n",
    "    X_test_fold = X.loc[test_indices, :]\n",
    "    y_train_fold = y[train_indices] \n",
    "    y_test_fold = y[test_indices]\n",
    "    fold_lr = LinearRegression()\n",
    "    fold_lr.fit(X_train_fold, y_train_fold)\n",
    "    print(fold_lr.score(X_test_fold, y_test_fold))"
   ]
  },
  {
   "cell_type": "markdown",
   "metadata": {},
   "source": [
    "### Test size as 0.1"
   ]
  },
  {
   "cell_type": "code",
   "execution_count": 92,
   "metadata": {},
   "outputs": [
    {
     "name": "stdout",
     "output_type": "stream",
     "text": [
      "Train score:  0.9917019811745394 Test Score:  0.9777796836580558\n",
      "CVV as 5:  [0.93335838 0.97111859 0.98012849 0.93372302 0.96798755]\n",
      "Mean Square error is : 1005722.0295159209\n",
      "R^2 score is : 0.9777796836580558\n",
      "Cross Val score:  0.9921506914614204\n"
     ]
    },
    {
     "data": {
      "image/png": "[encoded data removed]",
      "text/plain": [
       "<matplotlib.figure.Figure at 0x1a1408e208>"
      ]
     },
     "metadata": {},
     "output_type": "display_data"
    }
   ],
   "source": [
    "#  Train-test split\n",
    "X_train, X_test, y_train, y_test = train_test_split(X, y, test_size = 0.1)\n",
    "\n",
    "lr = LinearRegression()\n",
    "lr.fit(X, y)\n",
    "\n",
    "model1 = ss.fit_transform(X_train, y_train)\n",
    "print('Train score: ', lr.score(X_train, y_train), 'Test Score: ', lr.score(X_test, y_test))\n",
    "\n",
    "#  Plot predictions\n",
    "predictions = lr.predict(X_test)\n",
    "\n",
    "plt.scatter(y_test, predictions)\n",
    "plt.xlabel('y_test')\n",
    "plt.ylabel('predictions')\n",
    "\n",
    "# CVV, MSE ad R2 score\n",
    "print('CVV as 5: ', cross_val_score(LinearRegression(), X_test, y_test, cv=5))\n",
    "print(\"Mean Square error is :\", np.sqrt(mean_squared_error(y_test, lr.predict(X_test))))\n",
    "print(\"R^2 score is :\", r2_score(y_test, lr.predict(X_test)))\n",
    "pd.DataFrame({'variable': X.columns, f'_coefficient': lr.coef_}).sort_values(by=f'_coefficient')\n",
    "print(\"Cross Val score: \", cross_val_score(LinearRegression(), X_train, y_train, cv=5).mean())"
   ]
  },
  {
   "cell_type": "code",
   "execution_count": 93,
   "metadata": {},
   "outputs": [
    {
     "data": {
      "text/html": [
       "<div>\n",
       "<style scoped>\n",
       "    .dataframe tbody tr th:only-of-type {\n",
       "        vertical-align: middle;\n",
       "    }\n",
       "\n",
       "    .dataframe tbody tr th {\n",
       "        vertical-align: top;\n",
       "    }\n",
       "\n",
       "    .dataframe thead th {\n",
       "        text-align: right;\n",
       "    }\n",
       "</style>\n",
       "<table border=\"1\" class=\"dataframe\">\n",
       "  <thead>\n",
       "    <tr style=\"text-align: right;\">\n",
       "      <th></th>\n",
       "      <th>time</th>\n",
       "      <th>estimate</th>\n",
       "      <th>length</th>\n",
       "      <th>num_bids</th>\n",
       "      <th>Prediction</th>\n",
       "      <th>Actual</th>\n",
       "      <th>Variance</th>\n",
       "    </tr>\n",
       "  </thead>\n",
       "  <tbody>\n",
       "    <tr>\n",
       "      <th>151</th>\n",
       "      <td>541</td>\n",
       "      <td>19851943.94</td>\n",
       "      <td>0.59</td>\n",
       "      <td>12</td>\n",
       "      <td>19188261.99</td>\n",
       "      <td>18405188.99</td>\n",
       "      <td>783073.00</td>\n",
       "    </tr>\n",
       "    <tr>\n",
       "      <th>807</th>\n",
       "      <td>165</td>\n",
       "      <td>4572924.25</td>\n",
       "      <td>2.09</td>\n",
       "      <td>1</td>\n",
       "      <td>4612828.98</td>\n",
       "      <td>4467052.10</td>\n",
       "      <td>145776.88</td>\n",
       "    </tr>\n",
       "    <tr>\n",
       "      <th>621</th>\n",
       "      <td>102</td>\n",
       "      <td>2753799.70</td>\n",
       "      <td>2.40</td>\n",
       "      <td>8</td>\n",
       "      <td>2244945.02</td>\n",
       "      <td>2680558.94</td>\n",
       "      <td>-435613.92</td>\n",
       "    </tr>\n",
       "    <tr>\n",
       "      <th>966</th>\n",
       "      <td>88</td>\n",
       "      <td>4362510.30</td>\n",
       "      <td>135.00</td>\n",
       "      <td>5</td>\n",
       "      <td>3948550.47</td>\n",
       "      <td>3761543.11</td>\n",
       "      <td>187007.36</td>\n",
       "    </tr>\n",
       "    <tr>\n",
       "      <th>1202</th>\n",
       "      <td>67</td>\n",
       "      <td>1812752.25</td>\n",
       "      <td>1.54</td>\n",
       "      <td>5</td>\n",
       "      <td>1510226.67</td>\n",
       "      <td>1708497.38</td>\n",
       "      <td>-198270.71</td>\n",
       "    </tr>\n",
       "  </tbody>\n",
       "</table>\n",
       "</div>"
      ],
      "text/plain": [
       "      time    estimate  length  num_bids  Prediction      Actual   Variance\n",
       "151    541 19851943.94    0.59        12 19188261.99 18405188.99  783073.00\n",
       "807    165  4572924.25    2.09         1  4612828.98  4467052.10  145776.88\n",
       "621    102  2753799.70    2.40         8  2244945.02  2680558.94 -435613.92\n",
       "966     88  4362510.30  135.00         5  3948550.47  3761543.11  187007.36\n",
       "1202    67  1812752.25    1.54         5  1510226.67  1708497.38 -198270.71"
      ]
     },
     "execution_count": 93,
     "metadata": {},
     "output_type": "execute_result"
    }
   ],
   "source": [
    "test_dataSet = X_test.copy()\n",
    "test_dataSet['Prediction']= predictions\n",
    "\n",
    "test_dataSet['Actual'] = y_test\n",
    "test_dataSet['Variance'] = predictions - y_test\n",
    "\n",
    "test_dataSet.head()"
   ]
  },
  {
   "cell_type": "code",
   "execution_count": 94,
   "metadata": {},
   "outputs": [
    {
     "name": "stdout",
     "output_type": "stream",
     "text": [
      "0.9816068506491046\n",
      "0.994826536737806\n",
      "0.9930608256636176\n"
     ]
    }
   ],
   "source": [
    "kf =KFold(n_splits=3, shuffle=True, random_state=42)\n",
    "\n",
    "for train_indices, test_indices in kf.split(X, y):\n",
    "#     print('train' ,train_indices)\n",
    "#     print('test' ,test_indices)\n",
    "#     print('')\n",
    "    X_train_fold = X.loc[train_indices, :] \n",
    "    X_test_fold = X.loc[test_indices, :]\n",
    "    y_train_fold = y[train_indices] \n",
    "    y_test_fold = y[test_indices]\n",
    "    fold_lr = LinearRegression()\n",
    "    fold_lr.fit(X_train_fold, y_train_fold)\n",
    "    print(fold_lr.score(X_test_fold, y_test_fold))"
   ]
  },
  {
   "cell_type": "code",
   "execution_count": null,
   "metadata": {},
   "outputs": [],
   "source": []
  },
  {
   "cell_type": "code",
   "execution_count": null,
   "metadata": {},
   "outputs": [],
   "source": []
  },
  {
   "cell_type": "code",
   "execution_count": null,
   "metadata": {},
   "outputs": [],
   "source": []
  },
  {
   "cell_type": "code",
   "execution_count": null,
   "metadata": {},
   "outputs": [],
   "source": []
  }
 ],
 "metadata": {
  "kernelspec": {
   "display_name": "Python 3",
   "language": "python",
   "name": "python3"
  },
  "language_info": {
   "codemirror_mode": {
    "name": "ipython",
    "version": 3
   },
   "file_extension": ".py",
   "mimetype": "text/x-python",
   "name": "python",
   "nbconvert_exporter": "python",
   "pygments_lexer": "ipython3",
   "version": "3.6.4"
  }
 },
 "nbformat": 4,
 "nbformat_minor": 2
}
