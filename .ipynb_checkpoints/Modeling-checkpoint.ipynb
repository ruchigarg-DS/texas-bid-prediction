{
 "cells": [
  {
   "cell_type": "code",
   "execution_count": 5,
   "metadata": {},
   "outputs": [],
   "source": [
    "import pandas as pd\n",
    "import numpy as np\n",
    "import seaborn as sns\n",
    "import matplotlib.pyplot as plt\n",
    "pd.set_option('max_colwidth', 800)  # displays complete text\n",
    "pd.set_option('float_format', '{:.2f}'.format) # displays float with 2 decimal spaces\n",
    "\n",
    "from sklearn.preprocessing import StandardScaler\n",
    "from sklearn.model_selection import train_test_split, KFold, cross_val_score,cross_val_predict\n",
    "from sklearn.metrics import confusion_matrix, mean_squared_error, r2_score\n",
    "from sklearn.linear_model import LinearRegression"
   ]
  },
  {
   "cell_type": "code",
   "execution_count": 16,
   "metadata": {},
   "outputs": [
    {
     "data": {
      "text/html": [
       "<div>\n",
       "<style scoped>\n",
       "    .dataframe tbody tr th:only-of-type {\n",
       "        vertical-align: middle;\n",
       "    }\n",
       "\n",
       "    .dataframe tbody tr th {\n",
       "        vertical-align: top;\n",
       "    }\n",
       "\n",
       "    .dataframe thead th {\n",
       "        text-align: right;\n",
       "    }\n",
       "</style>\n",
       "<table border=\"1\" class=\"dataframe\">\n",
       "  <thead>\n",
       "    <tr style=\"text-align: right;\">\n",
       "      <th></th>\n",
       "      <th>proj_ID</th>\n",
       "      <th>seq_no</th>\n",
       "      <th>time</th>\n",
       "      <th>estimate</th>\n",
       "      <th>let_date</th>\n",
       "      <th>length</th>\n",
       "      <th>winner</th>\n",
       "      <th>win_amt</th>\n",
       "      <th>num_bids</th>\n",
       "      <th>bid_spread</th>\n",
       "      <th>compiled_bids</th>\n",
       "      <th>county</th>\n",
       "      <th>month</th>\n",
       "    </tr>\n",
       "  </thead>\n",
       "  <tbody>\n",
       "    <tr>\n",
       "      <th>0</th>\n",
       "      <td>NH 1602(247)</td>\n",
       "      <td>3001</td>\n",
       "      <td>1000</td>\n",
       "      <td>85290427.93</td>\n",
       "      <td>12/1/2016</td>\n",
       "      <td>0.39</td>\n",
       "      <td>WILLIAMS BROTHERS CONSTRUCTION CO. INC.</td>\n",
       "      <td>73929401.69</td>\n",
       "      <td>7</td>\n",
       "      <td>13677444.11</td>\n",
       "      <td>PULICE CONSTRUCTION INC. | $83,702,317.31; THE LANE CONSTRUCTION CORPORATION | $84,156,037.80; WILLIAMS BROTHERS CONSTRUCTION CO. INC. | $73,929,401.69; FLATIRON CONSTRUCTORS INC. | $79,922,832.75; WEBBER LLC | $87,606,845.80; ZACHRY CONSTRUCTION CORPORATION | $85,982,411.71; MCCARTHY BUILDING COMPANIES INC. | $86,132,345.12</td>\n",
       "      <td>BEXAR</td>\n",
       "      <td>12</td>\n",
       "    </tr>\n",
       "    <tr>\n",
       "      <th>1</th>\n",
       "      <td>NH 2017(364)</td>\n",
       "      <td>3005</td>\n",
       "      <td>70</td>\n",
       "      <td>9271227.00</td>\n",
       "      <td>12/1/2016</td>\n",
       "      <td>245.98</td>\n",
       "      <td>LIPHAM ASPHALT AND PAVING COMPANY LLC</td>\n",
       "      <td>8458527.23</td>\n",
       "      <td>4</td>\n",
       "      <td>980483.12</td>\n",
       "      <td>NORTHEASTERN PAVERS INC. | $8,685,268.42; MISSOURI PETROLEUM PRODUCTS COMPANY LLC | $9,108,664.77; BRANNAN PAVING CO. LTD. | $9,439,010.35; LIPHAM ASPHALT AND PAVING COMPANY LLC | $8,458,527.23</td>\n",
       "      <td>CALLAHAN</td>\n",
       "      <td>12</td>\n",
       "    </tr>\n",
       "  </tbody>\n",
       "</table>\n",
       "</div>"
      ],
      "text/plain": [
       "        proj_ID  seq_no  time    estimate   let_date  length  \\\n",
       "0  NH 1602(247)    3001  1000 85290427.93  12/1/2016    0.39   \n",
       "1  NH 2017(364)    3005    70  9271227.00  12/1/2016  245.98   \n",
       "\n",
       "                                    winner     win_amt  num_bids  bid_spread  \\\n",
       "0  WILLIAMS BROTHERS CONSTRUCTION CO. INC. 73929401.69         7 13677444.11   \n",
       "1    LIPHAM ASPHALT AND PAVING COMPANY LLC  8458527.23         4   980483.12   \n",
       "\n",
       "                                                                                                                                                                                                                                                                                                                            compiled_bids  \\\n",
       "0  PULICE CONSTRUCTION INC. | $83,702,317.31; THE LANE CONSTRUCTION CORPORATION | $84,156,037.80; WILLIAMS BROTHERS CONSTRUCTION CO. INC. | $73,929,401.69; FLATIRON CONSTRUCTORS INC. | $79,922,832.75; WEBBER LLC | $87,606,845.80; ZACHRY CONSTRUCTION CORPORATION | $85,982,411.71; MCCARTHY BUILDING COMPANIES INC. | $86,132,345.12   \n",
       "1                                                                                                                                       NORTHEASTERN PAVERS INC. | $8,685,268.42; MISSOURI PETROLEUM PRODUCTS COMPANY LLC | $9,108,664.77; BRANNAN PAVING CO. LTD. | $9,439,010.35; LIPHAM ASPHALT AND PAVING COMPANY LLC | $8,458,527.23   \n",
       "\n",
       "     county  month  \n",
       "0     BEXAR     12  \n",
       "1  CALLAHAN     12  "
      ]
     },
     "execution_count": 16,
     "metadata": {},
     "output_type": "execute_result"
    }
   ],
   "source": [
    "np.random.seed(42)\n",
    "# Read the excel sheet using pandas\n",
    "bidsData = pd.read_csv('Dataset/cleaned_bids.csv')\n",
    "bidsData.drop(columns=['winner', 'compiled_bids','bid_spread'])\n",
    "# display the 1st 2 rows\n",
    "bidsData.head(2)"
   ]
  },
  {
   "cell_type": "markdown",
   "metadata": {},
   "source": [
    "## Modeling"
   ]
  },
  {
   "cell_type": "code",
   "execution_count": 17,
   "metadata": {},
   "outputs": [],
   "source": [
    "# bidsData['0'].unique()"
   ]
  },
  {
   "cell_type": "code",
   "execution_count": 21,
   "metadata": {},
   "outputs": [],
   "source": [
    "X = bidsData[['time', 'estimate', 'length', 'num_bids']]\n",
    "y = bidsData['win_amt']"
   ]
  },
  {
   "cell_type": "markdown",
   "metadata": {},
   "source": [
    "### Test size as 0.5"
   ]
  },
  {
   "cell_type": "code",
   "execution_count": 22,
   "metadata": {},
   "outputs": [
    {
     "name": "stdout",
     "output_type": "stream",
     "text": [
      "train r2 score before ss:  0.9890595515167977\n",
      "test r2 score before ss:  0.9959263426278918\n",
      "CVV as 5:  [0.99437335 0.98446748 0.99909709 0.99491594 0.99763112]\n",
      "Mean Square error is : 19270504.081681307\n",
      "R^2 score after ss train  : -0.11292656938955337\n",
      "R^2 score after ss test : -0.0843940780475756\n",
      "Cross val score train:  0.9889615854995547\n",
      "Cross Val score test:  0.9940969931066597\n"
     ]
    },
    {
     "data": {
      "image/png": "[encoded data removed]",
      "text/plain": [
       "<Figure size 432x288 with 1 Axes>"
      ]
     },
     "metadata": {},
     "output_type": "display_data"
    }
   ],
   "source": [
    "#  Train-test split\n",
    "X_train, X_test, y_train, y_test = train_test_split(X, y, test_size = 0.3)\n",
    "\n",
    "lr = LinearRegression()\n",
    "lr.fit(X_train, y_train)\n",
    "print(\"train r2 score before ss: \",lr.score(X_train, y_train))\n",
    "print(\"test r2 score before ss: \", lr.score(X_test, y_test))\n",
    "\n",
    "ss = StandardScaler()\n",
    "\n",
    "X_train_scaled = ss.fit_transform(X_train)\n",
    "X_test_scaled = ss.transform(X_test)\n",
    "\n",
    "model = ss.fit_transform(X_train_scaled, y_train)\n",
    "\n",
    "#  Plot predictions\n",
    "predictions = lr.predict(X_test_scaled)\n",
    "\n",
    "plt.scatter(y_test, predictions)\n",
    "plt.xlabel('y_test')\n",
    "\n",
    "plt.ylabel('predictions')\n",
    "\n",
    "# CVV, MSE ad R2 score\n",
    "print('CVV as 5: ', cross_val_score(lr, X_test_scaled, y_test, cv=5))\n",
    "print(\"Mean Square error is :\", np.sqrt(mean_squared_error(y_test, lr.predict(X_test_scaled))))\n",
    "print(\"R^2 score after ss train  :\", r2_score(y_train, lr.predict(X_train_scaled)))\n",
    "print(\"R^2 score after ss test :\", r2_score(y_test, lr.predict(X_test_scaled)))\n",
    "pd.DataFrame({'variable': X.columns, f'_coefficient': lr.coef_}).sort_values(by=f'_coefficient')\n",
    "print('Cross val score train: ',cross_val_score(LinearRegression(), X_train, y_train, cv=5).mean())\n",
    "print(\"Cross Val score test: \", cross_val_score(LinearRegression(), X_test_scaled, y_test, cv=5).mean())"
   ]
  },
  {
   "cell_type": "code",
   "execution_count": 23,
   "metadata": {},
   "outputs": [
    {
     "data": {
      "text/html": [
       "<div>\n",
       "<style scoped>\n",
       "    .dataframe tbody tr th:only-of-type {\n",
       "        vertical-align: middle;\n",
       "    }\n",
       "\n",
       "    .dataframe tbody tr th {\n",
       "        vertical-align: top;\n",
       "    }\n",
       "\n",
       "    .dataframe thead th {\n",
       "        text-align: right;\n",
       "    }\n",
       "</style>\n",
       "<table border=\"1\" class=\"dataframe\">\n",
       "  <thead>\n",
       "    <tr style=\"text-align: right;\">\n",
       "      <th></th>\n",
       "      <th>time</th>\n",
       "      <th>estimate</th>\n",
       "      <th>length</th>\n",
       "      <th>num_bids</th>\n",
       "      <th>Prediction</th>\n",
       "      <th>Actual</th>\n",
       "      <th>Variance</th>\n",
       "    </tr>\n",
       "  </thead>\n",
       "  <tbody>\n",
       "    <tr>\n",
       "      <th>52</th>\n",
       "      <td>93</td>\n",
       "      <td>532514.13</td>\n",
       "      <td>0.20</td>\n",
       "      <td>6</td>\n",
       "      <td>96435.76</td>\n",
       "      <td>412715.00</td>\n",
       "      <td>-316279.24</td>\n",
       "    </tr>\n",
       "    <tr>\n",
       "      <th>679</th>\n",
       "      <td>86</td>\n",
       "      <td>1430045.50</td>\n",
       "      <td>1.26</td>\n",
       "      <td>6</td>\n",
       "      <td>96396.28</td>\n",
       "      <td>1562281.63</td>\n",
       "      <td>-1465885.35</td>\n",
       "    </tr>\n",
       "    <tr>\n",
       "      <th>969</th>\n",
       "      <td>548</td>\n",
       "      <td>905020.00</td>\n",
       "      <td>18.69</td>\n",
       "      <td>2</td>\n",
       "      <td>264250.59</td>\n",
       "      <td>1174127.00</td>\n",
       "      <td>-909876.41</td>\n",
       "    </tr>\n",
       "    <tr>\n",
       "      <th>1251</th>\n",
       "      <td>120</td>\n",
       "      <td>906325.50</td>\n",
       "      <td>0.01</td>\n",
       "      <td>5</td>\n",
       "      <td>138036.12</td>\n",
       "      <td>827634.40</td>\n",
       "      <td>-689598.28</td>\n",
       "    </tr>\n",
       "    <tr>\n",
       "      <th>203</th>\n",
       "      <td>187</td>\n",
       "      <td>2164831.00</td>\n",
       "      <td>16.34</td>\n",
       "      <td>6</td>\n",
       "      <td>96735.35</td>\n",
       "      <td>1557630.87</td>\n",
       "      <td>-1460895.52</td>\n",
       "    </tr>\n",
       "  </tbody>\n",
       "</table>\n",
       "</div>"
      ],
      "text/plain": [
       "      time   estimate  length  num_bids  Prediction     Actual    Variance\n",
       "52      93  532514.13    0.20         6    96435.76  412715.00  -316279.24\n",
       "679     86 1430045.50    1.26         6    96396.28 1562281.63 -1465885.35\n",
       "969    548  905020.00   18.69         2   264250.59 1174127.00  -909876.41\n",
       "1251   120  906325.50    0.01         5   138036.12  827634.40  -689598.28\n",
       "203    187 2164831.00   16.34         6    96735.35 1557630.87 -1460895.52"
      ]
     },
     "execution_count": 23,
     "metadata": {},
     "output_type": "execute_result"
    }
   ],
   "source": [
    "test_dataSet = X_test.copy()\n",
    "test_dataSet['Prediction']= predictions\n",
    "\n",
    "test_dataSet['Actual'] = y_test\n",
    "test_dataSet['Variance'] = predictions - y_test\n",
    "\n",
    "test_dataSet.head()"
   ]
  },
  {
   "cell_type": "code",
   "execution_count": 24,
   "metadata": {},
   "outputs": [
    {
     "name": "stdout",
     "output_type": "stream",
     "text": [
      "0.9816068506491046\n",
      "0.994826536737806\n",
      "0.9930608256636176\n"
     ]
    }
   ],
   "source": [
    "kf =KFold(n_splits=3, shuffle=True, random_state=42)\n",
    "\n",
    "for train_indices, test_indices in kf.split(X, y):\n",
    "#     print('train' ,train_indices)\n",
    "#     print('test' ,test_indices)\n",
    "#     print('')\n",
    "    X_train_fold = X.loc[train_indices, :] \n",
    "    X_test_fold = X.loc[test_indices, :]\n",
    "    y_train_fold = y[train_indices] \n",
    "    y_test_fold = y[test_indices]\n",
    "    fold_lr = LinearRegression()\n",
    "    fold_lr.fit(X_train_fold, y_train_fold)\n",
    "    print(fold_lr.score(X_test_fold, y_test_fold))"
   ]
  },
  {
   "cell_type": "markdown",
   "metadata": {},
   "source": [
    "### Test size as 0.3"
   ]
  },
  {
   "cell_type": "code",
   "execution_count": 25,
   "metadata": {},
   "outputs": [
    {
     "name": "stdout",
     "output_type": "stream",
     "text": [
      "train r2 score before ss:  0.9911473451810681\n",
      "test r2 score before ss:  0.9924840260740362\n",
      "CVV as 5:  [0.98681379 0.97603198 0.9941916  0.98981778 0.99793384]\n",
      "Mean Square error is : 14608366.22935214\n",
      "R^2 score after ss train  : -0.10080384081850968\n",
      "R^2 score after ss test : -0.12123225281605832\n",
      "Cross val score train:  0.9906743377775378\n",
      "Cross Val score test:  0.9889577978591386\n"
     ]
    },
    {
     "data": {
      "image/png": "[encoded data removed]",
      "text/plain": [
       "<Figure size 432x288 with 1 Axes>"
      ]
     },
     "metadata": {},
     "output_type": "display_data"
    }
   ],
   "source": [
    "#  Train-test split\n",
    "X_train, X_test, y_train, y_test = train_test_split(X, y, test_size = 0.3)\n",
    "\n",
    "lr = LinearRegression()\n",
    "lr.fit(X_train, y_train)\n",
    "print(\"train r2 score before ss: \",lr.score(X_train, y_train))\n",
    "print(\"test r2 score before ss: \", lr.score(X_test, y_test))\n",
    "\n",
    "ss = StandardScaler()\n",
    "\n",
    "X_train_scaled = ss.fit_transform(X_train)\n",
    "X_test_scaled = ss.transform(X_test)\n",
    "\n",
    "model = ss.fit_transform(X_train_scaled, y_train)\n",
    "#  Plot predictions\n",
    "predictions = lr.predict(X_test_scaled)\n",
    "\n",
    "plt.scatter(y_test, predictions)\n",
    "plt.xlabel('y_test')\n",
    "\n",
    "plt.ylabel('predictions')\n",
    "\n",
    "# CVV, MSE ad R2 score\n",
    "print('CVV as 5: ', cross_val_score(lr, X_test_scaled, y_test, cv=5))\n",
    "print(\"Mean Square error is :\", np.sqrt(mean_squared_error(y_test, lr.predict(X_test_scaled))))\n",
    "print(\"R^2 score after ss train  :\", r2_score(y_train, lr.predict(X_train_scaled)))\n",
    "print(\"R^2 score after ss test :\", r2_score(y_test, lr.predict(X_test_scaled)))\n",
    "pd.DataFrame({'variable': X.columns, f'_coefficient': lr.coef_}).sort_values(by=f'_coefficient')\n",
    "print('Cross val score train: ',cross_val_score(LinearRegression(), X_train, y_train, cv=5).mean())\n",
    "print(\"Cross Val score test: \", cross_val_score(LinearRegression(), X_test_scaled, y_test, cv=5).mean())\n",
    "\n"
   ]
  },
  {
   "cell_type": "code",
   "execution_count": 26,
   "metadata": {},
   "outputs": [
    {
     "data": {
      "text/html": [
       "<div>\n",
       "<style scoped>\n",
       "    .dataframe tbody tr th:only-of-type {\n",
       "        vertical-align: middle;\n",
       "    }\n",
       "\n",
       "    .dataframe tbody tr th {\n",
       "        vertical-align: top;\n",
       "    }\n",
       "\n",
       "    .dataframe thead th {\n",
       "        text-align: right;\n",
       "    }\n",
       "</style>\n",
       "<table border=\"1\" class=\"dataframe\">\n",
       "  <thead>\n",
       "    <tr style=\"text-align: right;\">\n",
       "      <th></th>\n",
       "      <th>time</th>\n",
       "      <th>estimate</th>\n",
       "      <th>length</th>\n",
       "      <th>num_bids</th>\n",
       "      <th>Prediction</th>\n",
       "      <th>Actual</th>\n",
       "      <th>Variance</th>\n",
       "    </tr>\n",
       "  </thead>\n",
       "  <tbody>\n",
       "    <tr>\n",
       "      <th>151</th>\n",
       "      <td>541</td>\n",
       "      <td>19851943.94</td>\n",
       "      <td>0.59</td>\n",
       "      <td>12</td>\n",
       "      <td>-109420.17</td>\n",
       "      <td>18405188.99</td>\n",
       "      <td>-18514609.16</td>\n",
       "    </tr>\n",
       "    <tr>\n",
       "      <th>807</th>\n",
       "      <td>165</td>\n",
       "      <td>4572924.25</td>\n",
       "      <td>2.09</td>\n",
       "      <td>1</td>\n",
       "      <td>264000.48</td>\n",
       "      <td>4467052.10</td>\n",
       "      <td>-4203051.62</td>\n",
       "    </tr>\n",
       "    <tr>\n",
       "      <th>621</th>\n",
       "      <td>102</td>\n",
       "      <td>2753799.70</td>\n",
       "      <td>2.40</td>\n",
       "      <td>8</td>\n",
       "      <td>25794.65</td>\n",
       "      <td>2680558.94</td>\n",
       "      <td>-2654764.29</td>\n",
       "    </tr>\n",
       "    <tr>\n",
       "      <th>966</th>\n",
       "      <td>88</td>\n",
       "      <td>4362510.30</td>\n",
       "      <td>135.00</td>\n",
       "      <td>5</td>\n",
       "      <td>126937.52</td>\n",
       "      <td>3761543.11</td>\n",
       "      <td>-3634605.59</td>\n",
       "    </tr>\n",
       "    <tr>\n",
       "      <th>1202</th>\n",
       "      <td>67</td>\n",
       "      <td>1812752.25</td>\n",
       "      <td>1.54</td>\n",
       "      <td>5</td>\n",
       "      <td>127771.49</td>\n",
       "      <td>1708497.38</td>\n",
       "      <td>-1580725.89</td>\n",
       "    </tr>\n",
       "  </tbody>\n",
       "</table>\n",
       "</div>"
      ],
      "text/plain": [
       "      time    estimate  length  num_bids  Prediction      Actual     Variance\n",
       "151    541 19851943.94    0.59        12  -109420.17 18405188.99 -18514609.16\n",
       "807    165  4572924.25    2.09         1   264000.48  4467052.10  -4203051.62\n",
       "621    102  2753799.70    2.40         8    25794.65  2680558.94  -2654764.29\n",
       "966     88  4362510.30  135.00         5   126937.52  3761543.11  -3634605.59\n",
       "1202    67  1812752.25    1.54         5   127771.49  1708497.38  -1580725.89"
      ]
     },
     "execution_count": 26,
     "metadata": {},
     "output_type": "execute_result"
    }
   ],
   "source": [
    "test_dataSet = X_test.copy()\n",
    "test_dataSet['Prediction']= predictions\n",
    "\n",
    "test_dataSet['Actual'] = y_test\n",
    "test_dataSet['Variance'] = predictions - y_test\n",
    "\n",
    "test_dataSet.head()"
   ]
  },
  {
   "cell_type": "code",
   "execution_count": 27,
   "metadata": {},
   "outputs": [
    {
     "name": "stdout",
     "output_type": "stream",
     "text": [
      "0.9816068506491046\n",
      "0.994826536737806\n",
      "0.9930608256636176\n"
     ]
    }
   ],
   "source": [
    "kf =KFold(n_splits=3, shuffle=True, random_state=42)\n",
    "\n",
    "for train_indices, test_indices in kf.split(X, y):\n",
    "#     print('train' ,train_indices)\n",
    "#     print('test' ,test_indices)\n",
    "#     print('')\n",
    "    X_train_fold = X.loc[train_indices, :] \n",
    "    X_test_fold = X.loc[test_indices, :]\n",
    "    y_train_fold = y[train_indices] \n",
    "    y_test_fold = y[test_indices]\n",
    "    fold_lr = LinearRegression()\n",
    "    fold_lr.fit(X_train_fold, y_train_fold)\n",
    "    print(fold_lr.score(X_test_fold, y_test_fold))"
   ]
  },
  {
   "cell_type": "markdown",
   "metadata": {},
   "source": [
    "### Test size as 0.1"
   ]
  },
  {
   "cell_type": "code",
   "execution_count": 200,
   "metadata": {},
   "outputs": [
    {
     "name": "stdout",
     "output_type": "stream",
     "text": [
      "train r2 score before ss:  0.9917043147867634\n",
      "test r2 score before ss:  0.9774605523693793\n",
      "CVV as 5:  [0.93335838 0.97111859 0.98012849 0.93372302 0.96798755]\n",
      "Mean Square error is : 7684261.920753863\n",
      "R^2 score after ss train  : -0.10476554171812857\n",
      "R^2 score after ss test : -0.2971751801137059\n",
      "Cross val score train:  0.9921506914614204\n",
      "Cross Val score test:  0.9572632070901201\n"
     ]
    },
    {
     "data": {
      "image/png": "[encoded data removed]",
      "text/plain": [
       "<matplotlib.figure.Figure at 0x1a140ffc88>"
      ]
     },
     "metadata": {},
     "output_type": "display_data"
    }
   ],
   "source": [
    "#  Train-test split\n",
    "X_train, X_test, y_train, y_test = train_test_split(X, y, test_size = 0.1)\n",
    "\n",
    "lr = LinearRegression()\n",
    "lr.fit(X_train, y_train)\n",
    "print(\"train r2 score before ss: \",lr.score(X_train, y_train))\n",
    "print(\"test r2 score before ss: \", lr.score(X_test, y_test))\n",
    "\n",
    "ss = StandardScaler()\n",
    "\n",
    "X_train_scaled = ss.fit_transform(X_train)\n",
    "X_test_scaled = ss.transform(X_test)\n",
    "\n",
    "model = ss.fit_transform(X_train_scaled, y_train)\n",
    "\n",
    "#  Plot predictions\n",
    "predictions = lr.predict(X_test_scaled)\n",
    "\n",
    "plt.scatter(y_test, predictions)\n",
    "plt.xlabel('y_test')\n",
    "\n",
    "plt.ylabel('predictions')\n",
    "\n",
    "# CVV, MSE ad R2 score\n",
    "print('CVV as 5: ', cross_val_score(lr, X_test_scaled, y_test, cv=5))\n",
    "print(\"Mean Square error is :\", np.sqrt(mean_squared_error(y_test, lr.predict(X_test_scaled))))\n",
    "print(\"R^2 score after ss train  :\", r2_score(y_train, lr.predict(X_train_scaled)))\n",
    "print(\"R^2 score after ss test :\", r2_score(y_test, lr.predict(X_test_scaled)))\n",
    "pd.DataFrame({'variable': X.columns, f'_coefficient': lr.coef_}).sort_values(by=f'_coefficient')\n",
    "print('Cross val score train: ',cross_val_score(LinearRegression(), X_train, y_train, cv=5).mean())\n",
    "print(\"Cross Val score test: \", cross_val_score(LinearRegression(), X_test_scaled, y_test, cv=5).mean())\n",
    "\n",
    "\n"
   ]
  },
  {
   "cell_type": "code",
   "execution_count": 201,
   "metadata": {},
   "outputs": [
    {
     "data": {
      "text/html": [
       "<div>\n",
       "<style scoped>\n",
       "    .dataframe tbody tr th:only-of-type {\n",
       "        vertical-align: middle;\n",
       "    }\n",
       "\n",
       "    .dataframe tbody tr th {\n",
       "        vertical-align: top;\n",
       "    }\n",
       "\n",
       "    .dataframe thead th {\n",
       "        text-align: right;\n",
       "    }\n",
       "</style>\n",
       "<table border=\"1\" class=\"dataframe\">\n",
       "  <thead>\n",
       "    <tr style=\"text-align: right;\">\n",
       "      <th></th>\n",
       "      <th>time</th>\n",
       "      <th>estimate</th>\n",
       "      <th>length</th>\n",
       "      <th>num_bids</th>\n",
       "      <th>Prediction</th>\n",
       "      <th>Actual</th>\n",
       "      <th>Variance</th>\n",
       "    </tr>\n",
       "  </thead>\n",
       "  <tbody>\n",
       "    <tr>\n",
       "      <th>151</th>\n",
       "      <td>541</td>\n",
       "      <td>19851943.94</td>\n",
       "      <td>0.59</td>\n",
       "      <td>12</td>\n",
       "      <td>-165275.17</td>\n",
       "      <td>18405188.99</td>\n",
       "      <td>-18570464.16</td>\n",
       "    </tr>\n",
       "    <tr>\n",
       "      <th>807</th>\n",
       "      <td>165</td>\n",
       "      <td>4572924.25</td>\n",
       "      <td>2.09</td>\n",
       "      <td>1</td>\n",
       "      <td>188223.66</td>\n",
       "      <td>4467052.10</td>\n",
       "      <td>-4278828.44</td>\n",
       "    </tr>\n",
       "    <tr>\n",
       "      <th>621</th>\n",
       "      <td>102</td>\n",
       "      <td>2753799.70</td>\n",
       "      <td>2.40</td>\n",
       "      <td>8</td>\n",
       "      <td>-38261.62</td>\n",
       "      <td>2680558.94</td>\n",
       "      <td>-2718820.56</td>\n",
       "    </tr>\n",
       "    <tr>\n",
       "      <th>966</th>\n",
       "      <td>88</td>\n",
       "      <td>4362510.30</td>\n",
       "      <td>135.00</td>\n",
       "      <td>5</td>\n",
       "      <td>57422.26</td>\n",
       "      <td>3761543.11</td>\n",
       "      <td>-3704120.85</td>\n",
       "    </tr>\n",
       "    <tr>\n",
       "      <th>1202</th>\n",
       "      <td>67</td>\n",
       "      <td>1812752.25</td>\n",
       "      <td>1.54</td>\n",
       "      <td>5</td>\n",
       "      <td>58498.10</td>\n",
       "      <td>1708497.38</td>\n",
       "      <td>-1649999.28</td>\n",
       "    </tr>\n",
       "  </tbody>\n",
       "</table>\n",
       "</div>"
      ],
      "text/plain": [
       "      time    estimate  length  num_bids  Prediction      Actual     Variance\n",
       "151    541 19851943.94    0.59        12  -165275.17 18405188.99 -18570464.16\n",
       "807    165  4572924.25    2.09         1   188223.66  4467052.10  -4278828.44\n",
       "621    102  2753799.70    2.40         8   -38261.62  2680558.94  -2718820.56\n",
       "966     88  4362510.30  135.00         5    57422.26  3761543.11  -3704120.85\n",
       "1202    67  1812752.25    1.54         5    58498.10  1708497.38  -1649999.28"
      ]
     },
     "execution_count": 201,
     "metadata": {},
     "output_type": "execute_result"
    }
   ],
   "source": [
    "test_dataSet = X_test.copy()\n",
    "test_dataSet['Prediction']= predictions\n",
    "\n",
    "test_dataSet['Actual'] = y_test\n",
    "test_dataSet['Variance'] = predictions - y_test\n",
    "\n",
    "test_dataSet.head()"
   ]
  },
  {
   "cell_type": "code",
   "execution_count": 202,
   "metadata": {},
   "outputs": [
    {
     "name": "stdout",
     "output_type": "stream",
     "text": [
      "0.9816068506491046\n",
      "0.994826536737806\n",
      "0.9930608256636176\n"
     ]
    }
   ],
   "source": [
    "kf =KFold(n_splits=3, shuffle=True, random_state=42)\n",
    "\n",
    "for train_indices, test_indices in kf.split(X, y):\n",
    "#     print('train' ,train_indices)\n",
    "#     print('test' ,test_indices)\n",
    "#     print('')\n",
    "    X_train_fold = X.loc[train_indices, :] \n",
    "    X_test_fold = X.loc[test_indices, :]\n",
    "    y_train_fold = y[train_indices] \n",
    "    y_test_fold = y[test_indices]\n",
    "    fold_lr = LinearRegression()\n",
    "    fold_lr.fit(X_train_fold, y_train_fold)\n",
    "    print(fold_lr.score(X_test_fold, y_test_fold))"
   ]
  },
  {
   "cell_type": "code",
   "execution_count": null,
   "metadata": {},
   "outputs": [],
   "source": []
  },
  {
   "cell_type": "code",
   "execution_count": null,
   "metadata": {},
   "outputs": [],
   "source": []
  },
  {
   "cell_type": "code",
   "execution_count": null,
   "metadata": {},
   "outputs": [],
   "source": []
  },
  {
   "cell_type": "code",
   "execution_count": null,
   "metadata": {},
   "outputs": [],
   "source": []
  }
 ],
 "metadata": {
  "kernelspec": {
   "display_name": "Python 3",
   "language": "python",
   "name": "python3"
  },
  "language_info": {
   "codemirror_mode": {
    "name": "ipython",
    "version": 3
   },
   "file_extension": ".py",
   "mimetype": "text/x-python",
   "name": "python",
   "nbconvert_exporter": "python",
   "pygments_lexer": "ipython3",
   "version": "3.6.5"
  }
 },
 "nbformat": 4,
 "nbformat_minor": 2
}
