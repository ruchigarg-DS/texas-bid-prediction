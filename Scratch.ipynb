{
 "cells": [
  {
   "cell_type": "code",
   "execution_count": 1,
   "metadata": {},
   "outputs": [
    {
     "data": {
      "text/html": [
       "<div>\n",
       "<style scoped>\n",
       "    .dataframe tbody tr th:only-of-type {\n",
       "        vertical-align: middle;\n",
       "    }\n",
       "\n",
       "    .dataframe tbody tr th {\n",
       "        vertical-align: top;\n",
       "    }\n",
       "\n",
       "    .dataframe thead th {\n",
       "        text-align: right;\n",
       "    }\n",
       "</style>\n",
       "<table border=\"1\" class=\"dataframe\">\n",
       "  <thead>\n",
       "    <tr style=\"text-align: right;\">\n",
       "      <th></th>\n",
       "      <th>proj_ID</th>\n",
       "      <th>seq_no</th>\n",
       "      <th>time</th>\n",
       "      <th>estimate</th>\n",
       "      <th>let_date</th>\n",
       "      <th>length</th>\n",
       "      <th>winner</th>\n",
       "      <th>win_amt</th>\n",
       "      <th>num_bids</th>\n",
       "      <th>bid_spread</th>\n",
       "      <th>compiled_bids</th>\n",
       "      <th>county</th>\n",
       "      <th>month</th>\n",
       "    </tr>\n",
       "  </thead>\n",
       "  <tbody>\n",
       "    <tr>\n",
       "      <th>0</th>\n",
       "      <td>NH 1602(247)</td>\n",
       "      <td>3001</td>\n",
       "      <td>1000</td>\n",
       "      <td>85290427.93</td>\n",
       "      <td>12/1/2016</td>\n",
       "      <td>0.39</td>\n",
       "      <td>WILLIAMS BROTHERS CONSTRUCTION CO. INC.</td>\n",
       "      <td>73929401.69</td>\n",
       "      <td>7</td>\n",
       "      <td>13677444.11</td>\n",
       "      <td>PULICE CONSTRUCTION INC. | $83,702,317.31; THE...</td>\n",
       "      <td>BEXAR</td>\n",
       "      <td>12</td>\n",
       "    </tr>\n",
       "    <tr>\n",
       "      <th>1</th>\n",
       "      <td>NH 2017(364)</td>\n",
       "      <td>3005</td>\n",
       "      <td>70</td>\n",
       "      <td>9271227.00</td>\n",
       "      <td>12/1/2016</td>\n",
       "      <td>245.98</td>\n",
       "      <td>LIPHAM ASPHALT AND PAVING COMPANY LLC</td>\n",
       "      <td>8458527.23</td>\n",
       "      <td>4</td>\n",
       "      <td>980483.12</td>\n",
       "      <td>NORTHEASTERN PAVERS INC. | $8,685,268.42; MISS...</td>\n",
       "      <td>CALLAHAN</td>\n",
       "      <td>12</td>\n",
       "    </tr>\n",
       "  </tbody>\n",
       "</table>\n",
       "</div>"
      ],
      "text/plain": [
       "        proj_ID  seq_no  time    estimate   let_date  length  \\\n",
       "0  NH 1602(247)    3001  1000 85290427.93  12/1/2016    0.39   \n",
       "1  NH 2017(364)    3005    70  9271227.00  12/1/2016  245.98   \n",
       "\n",
       "                                    winner     win_amt  num_bids  bid_spread  \\\n",
       "0  WILLIAMS BROTHERS CONSTRUCTION CO. INC. 73929401.69         7 13677444.11   \n",
       "1    LIPHAM ASPHALT AND PAVING COMPANY LLC  8458527.23         4   980483.12   \n",
       "\n",
       "                                       compiled_bids    county  month  \n",
       "0  PULICE CONSTRUCTION INC. | $83,702,317.31; THE...     BEXAR     12  \n",
       "1  NORTHEASTERN PAVERS INC. | $8,685,268.42; MISS...  CALLAHAN     12  "
      ]
     },
     "execution_count": 1,
     "metadata": {},
     "output_type": "execute_result"
    }
   ],
   "source": [
    "import pandas as pd\n",
    "import seaborn as sns\n",
    "import matplotlib.pyplot as plt\n",
    "# pd.set_option('max_colwidth', 800)  # displays complete text\n",
    "pd.set_option('float_format', '{:.2f}'.format) # displays float with 2 decimal spaces\n",
    "\n",
    "# Read the excel sheet using pandas\n",
    "bidsData = pd.read_csv('Dataset/cleaned_bids.csv')\n",
    "\n",
    "# display the 1st 2 rows\n",
    "bidsData.head(2)"
   ]
  },
  {
   "cell_type": "code",
   "execution_count": 18,
   "metadata": {},
   "outputs": [
    {
     "data": {
      "text/plain": [
       "array([ 7,  4,  3,  2, 11,  8,  6,  5,  9, 10,  1, 14, 12, 16, 13, 18])"
      ]
     },
     "execution_count": 18,
     "metadata": {},
     "output_type": "execute_result"
    }
   ],
   "source": [
    "bidsData['num_bids'].unique()"
   ]
  },
  {
   "cell_type": "code",
   "execution_count": 21,
   "metadata": {},
   "outputs": [],
   "source": [
    "# bidsData.groupby(['num_bids'])"
   ]
  },
  {
   "cell_type": "code",
   "execution_count": null,
   "metadata": {},
   "outputs": [],
   "source": []
  }
 ],
 "metadata": {
  "kernelspec": {
   "display_name": "Python 3",
   "language": "python",
   "name": "python3"
  },
  "language_info": {
   "codemirror_mode": {
    "name": "ipython",
    "version": 3
   },
   "file_extension": ".py",
   "mimetype": "text/x-python",
   "name": "python",
   "nbconvert_exporter": "python",
   "pygments_lexer": "ipython3",
   "version": "3.6.5"
  }
 },
 "nbformat": 4,
 "nbformat_minor": 2
}
