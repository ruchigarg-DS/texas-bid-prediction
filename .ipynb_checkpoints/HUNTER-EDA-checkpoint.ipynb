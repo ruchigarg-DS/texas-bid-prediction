{
 "cells": [
  {
   "cell_type": "code",
   "execution_count": 2,
   "metadata": {},
   "outputs": [],
   "source": [
    "import pandas as pd\n",
    "import seaborn as sns\n",
    "import matplotlib.pyplot as plt\n",
    "pd.set_option('max_colwidth', 800)  # dispalys complete text\n",
    "pd.set_option('float_format', '{:.2f}'.format) # displays float with 2 decimal spaces"
   ]
  },
  {
   "cell_type": "code",
   "execution_count": 3,
   "metadata": {},
   "outputs": [
    {
     "data": {
      "text/html": [
       "<div>\n",
       "<style scoped>\n",
       "    .dataframe tbody tr th:only-of-type {\n",
       "        vertical-align: middle;\n",
       "    }\n",
       "\n",
       "    .dataframe tbody tr th {\n",
       "        vertical-align: top;\n",
       "    }\n",
       "\n",
       "    .dataframe thead th {\n",
       "        text-align: right;\n",
       "    }\n",
       "</style>\n",
       "<table border=\"1\" class=\"dataframe\">\n",
       "  <thead>\n",
       "    <tr style=\"text-align: right;\">\n",
       "      <th></th>\n",
       "      <th>proj_ID</th>\n",
       "      <th>seq_no</th>\n",
       "      <th>time</th>\n",
       "      <th>estimate</th>\n",
       "      <th>let_date</th>\n",
       "      <th>length</th>\n",
       "      <th>winner</th>\n",
       "      <th>win_amt</th>\n",
       "      <th>num_bids</th>\n",
       "      <th>bid_spread</th>\n",
       "      <th>compiled_bids</th>\n",
       "      <th>county</th>\n",
       "      <th>month</th>\n",
       "    </tr>\n",
       "  </thead>\n",
       "  <tbody>\n",
       "    <tr>\n",
       "      <th>0</th>\n",
       "      <td>NH 1602(247)</td>\n",
       "      <td>3001</td>\n",
       "      <td>1000 WORKING DAYS</td>\n",
       "      <td>85290427.93</td>\n",
       "      <td>12/1/2016</td>\n",
       "      <td>0.39</td>\n",
       "      <td>WILLIAMS BROTHERS CONSTRUCTION CO. INC.</td>\n",
       "      <td>73929401.69</td>\n",
       "      <td>7</td>\n",
       "      <td>13677444.11</td>\n",
       "      <td>PULICE CONSTRUCTION INC. | $83,702,317.31; THE LANE CONSTRUCTION CORPORATION | $84,156,037.80; WILLIAMS BROTHERS CONSTRUCTION CO. INC. | $73,929,401.69; FLATIRON CONSTRUCTORS INC. | $79,922,832.75; WEBBER LLC | $87,606,845.80; ZACHRY CONSTRUCTION CORPORATION | $85,982,411.71; MCCARTHY BUILDING COMPANIES INC. | $86,132,345.12</td>\n",
       "      <td>BEXAR</td>\n",
       "      <td>12</td>\n",
       "    </tr>\n",
       "    <tr>\n",
       "      <th>1</th>\n",
       "      <td>NH 2017(364)</td>\n",
       "      <td>3005</td>\n",
       "      <td>70 WORKING DAYS</td>\n",
       "      <td>9271227.00</td>\n",
       "      <td>12/1/2016</td>\n",
       "      <td>245.98</td>\n",
       "      <td>LIPHAM ASPHALT AND PAVING COMPANY LLC</td>\n",
       "      <td>8458527.23</td>\n",
       "      <td>4</td>\n",
       "      <td>980483.12</td>\n",
       "      <td>NORTHEASTERN PAVERS INC. | $8,685,268.42; MISSOURI PETROLEUM PRODUCTS COMPANY LLC | $9,108,664.77; BRANNAN PAVING CO. LTD. | $9,439,010.35; LIPHAM ASPHALT AND PAVING COMPANY LLC | $8,458,527.23</td>\n",
       "      <td>CALLAHAN</td>\n",
       "      <td>12</td>\n",
       "    </tr>\n",
       "  </tbody>\n",
       "</table>\n",
       "</div>"
      ],
      "text/plain": [
       "        proj_ID  seq_no               time    estimate   let_date  length  \\\n",
       "0  NH 1602(247)    3001  1000 WORKING DAYS 85290427.93  12/1/2016    0.39   \n",
       "1  NH 2017(364)    3005    70 WORKING DAYS  9271227.00  12/1/2016  245.98   \n",
       "\n",
       "                                    winner     win_amt  num_bids  bid_spread  \\\n",
       "0  WILLIAMS BROTHERS CONSTRUCTION CO. INC. 73929401.69         7 13677444.11   \n",
       "1    LIPHAM ASPHALT AND PAVING COMPANY LLC  8458527.23         4   980483.12   \n",
       "\n",
       "                                                                                                                                                                                                                                                                                                                            compiled_bids  \\\n",
       "0  PULICE CONSTRUCTION INC. | $83,702,317.31; THE LANE CONSTRUCTION CORPORATION | $84,156,037.80; WILLIAMS BROTHERS CONSTRUCTION CO. INC. | $73,929,401.69; FLATIRON CONSTRUCTORS INC. | $79,922,832.75; WEBBER LLC | $87,606,845.80; ZACHRY CONSTRUCTION CORPORATION | $85,982,411.71; MCCARTHY BUILDING COMPANIES INC. | $86,132,345.12   \n",
       "1                                                                                                                                       NORTHEASTERN PAVERS INC. | $8,685,268.42; MISSOURI PETROLEUM PRODUCTS COMPANY LLC | $9,108,664.77; BRANNAN PAVING CO. LTD. | $9,439,010.35; LIPHAM ASPHALT AND PAVING COMPANY LLC | $8,458,527.23   \n",
       "\n",
       "     county  month  \n",
       "0     BEXAR     12  \n",
       "1  CALLAHAN     12  "
      ]
     },
     "execution_count": 3,
     "metadata": {},
     "output_type": "execute_result"
    }
   ],
   "source": [
    "# Read the excel sheet using pandas\n",
    "bidsData = pd.read_csv('Dataset/texas-bids.csv')\n",
    "\n",
    "# display the 1st 2 rows\n",
    "bidsData.head(2)"
   ]
  },
  {
   "cell_type": "code",
   "execution_count": 4,
   "metadata": {},
   "outputs": [],
   "source": [
    "angelDataset = bidsData[bidsData['winner'] == 'ANGEL BROTHERS HOLDINGS CORP.']"
   ]
  },
  {
   "cell_type": "code",
   "execution_count": 7,
   "metadata": {},
   "outputs": [
    {
     "name": "stderr",
     "output_type": "stream",
     "text": [
      "/anaconda3/lib/python3.6/site-packages/ipykernel_launcher.py:2: SettingWithCopyWarning: \n",
      "A value is trying to be set on a copy of a slice from a DataFrame.\n",
      "Try using .loc[row_indexer,col_indexer] = value instead\n",
      "\n",
      "See the caveats in the documentation: http://pandas.pydata.org/pandas-docs/stable/indexing.html#indexing-view-versus-copy\n",
      "  \n"
     ]
    },
    {
     "data": {
      "text/plain": [
       "4       159\n",
       "40       33\n",
       "59       75\n",
       "62       86\n",
       "85       90\n",
       "98      132\n",
       "151     541\n",
       "167     180\n",
       "181     187\n",
       "193     586\n",
       "229     183\n",
       "298      33\n",
       "301      35\n",
       "303      58\n",
       "418      75\n",
       "421      80\n",
       "521     186\n",
       "535      88\n",
       "555     200\n",
       "570     201\n",
       "586      60\n",
       "684     143\n",
       "688     176\n",
       "748     396\n",
       "786      90\n",
       "835     329\n",
       "874     151\n",
       "882      73\n",
       "959      75\n",
       "976      80\n",
       "1004    134\n",
       "1112    261\n",
       "1126     60\n",
       "1131    208\n",
       "1149    115\n",
       "1152    300\n",
       "1156     41\n",
       "1175     45\n",
       "1205     45\n",
       "1235     60\n",
       "1255     43\n",
       "1302    143\n",
       "1335    365\n",
       "1358    202\n",
       "1386    202\n",
       "1435     55\n",
       "1450    109\n",
       "1456    302\n",
       "1557     45\n",
       "Name: time, dtype: int64"
      ]
     },
     "execution_count": 7,
     "metadata": {},
     "output_type": "execute_result"
    }
   ],
   "source": [
    "# Remove the non-numerical characters and convert the time string into int\n",
    "angelDataset['time'] = [int(''.join(c for c in each if c.isdigit())) for each in angelDataset['time']] \n",
    "\n",
    "#  Convert tim column to type int\n",
    "angelDataset['time'].astype(int)"
   ]
  },
  {
   "cell_type": "code",
   "execution_count": 8,
   "metadata": {},
   "outputs": [
    {
     "data": {
      "text/plain": [
       "<matplotlib.axes._subplots.AxesSubplot at 0x1108502b0>"
      ]
     },
     "execution_count": 8,
     "metadata": {},
     "output_type": "execute_result"
    },
    {
     "data": {
      "image/png": "[encoded data removed]",
      "text/plain": [
       "<matplotlib.figure.Figure at 0x1a167c8550>"
      ]
     },
     "metadata": {},
     "output_type": "display_data"
    }
   ],
   "source": [
    "sns.heatmap(angelDataset.corr(), annot=True)"
   ]
  },
  {
   "cell_type": "code",
   "execution_count": null,
   "metadata": {},
   "outputs": [],
   "source": []
  },
  {
   "cell_type": "code",
   "execution_count": null,
   "metadata": {},
   "outputs": [],
   "source": []
  },
  {
   "cell_type": "code",
   "execution_count": null,
   "metadata": {},
   "outputs": [],
   "source": []
  },
  {
   "cell_type": "code",
   "execution_count": null,
   "metadata": {},
   "outputs": [],
   "source": []
  }
 ],
 "metadata": {
  "kernelspec": {
   "display_name": "Python 3",
   "language": "python",
   "name": "python3"
  },
  "language_info": {
   "codemirror_mode": {
    "name": "ipython",
    "version": 3
   },
   "file_extension": ".py",
   "mimetype": "text/x-python",
   "name": "python",
   "nbconvert_exporter": "python",
   "pygments_lexer": "ipython3",
   "version": "3.6.4"
  }
 },
 "nbformat": 4,
 "nbformat_minor": 2
}
