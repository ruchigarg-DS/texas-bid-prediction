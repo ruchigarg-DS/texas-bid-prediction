{
 "cells": [
  {
   "cell_type": "code",
<<<<<<< HEAD
   "execution_count": 5,
=======
   "execution_count": 191,
>>>>>>> d69fbd57b2e69dfb43bfc8384a6e1d91753fc4ff
   "metadata": {},
   "outputs": [],
   "source": [
    "import pandas as pd\n",
    "import numpy as np\n",
    "import seaborn as sns\n",
    "import matplotlib.pyplot as plt\n",
    "pd.set_option('max_colwidth', 800)  # displays complete text\n",
    "pd.set_option('float_format', '{:.2f}'.format) # displays float with 2 decimal spaces\n",
    "\n",
    "from sklearn.preprocessing import StandardScaler\n",
    "from sklearn.model_selection import train_test_split, KFold, cross_val_score,cross_val_predict\n",
    "from sklearn.metrics import confusion_matrix, mean_squared_error, r2_score\n",
    "from sklearn.linear_model import LinearRegression"
   ]
  },
  {
   "cell_type": "code",
<<<<<<< HEAD
   "execution_count": 31,
=======
   "execution_count": 192,
>>>>>>> d69fbd57b2e69dfb43bfc8384a6e1d91753fc4ff
   "metadata": {},
   "outputs": [
    {
     "data": {
      "text/html": [
       "<div>\n",
       "<style scoped>\n",
       "    .dataframe tbody tr th:only-of-type {\n",
       "        vertical-align: middle;\n",
       "    }\n",
       "\n",
       "    .dataframe tbody tr th {\n",
       "        vertical-align: top;\n",
       "    }\n",
       "\n",
       "    .dataframe thead th {\n",
       "        text-align: right;\n",
       "    }\n",
       "</style>\n",
       "<table border=\"1\" class=\"dataframe\">\n",
       "  <thead>\n",
       "    <tr style=\"text-align: right;\">\n",
       "      <th></th>\n",
       "      <th>proj_ID</th>\n",
       "      <th>seq_no</th>\n",
       "      <th>time</th>\n",
       "      <th>estimate</th>\n",
       "      <th>let_date</th>\n",
       "      <th>length</th>\n",
       "      <th>winner</th>\n",
       "      <th>win_amt</th>\n",
       "      <th>num_bids</th>\n",
       "      <th>bid_spread</th>\n",
       "      <th>compiled_bids</th>\n",
       "      <th>county</th>\n",
       "      <th>month</th>\n",
       "    </tr>\n",
       "  </thead>\n",
       "  <tbody>\n",
       "    <tr>\n",
       "      <th>0</th>\n",
       "      <td>NH 1602(247)</td>\n",
       "      <td>3001</td>\n",
       "      <td>1000</td>\n",
       "      <td>85290427.93</td>\n",
       "      <td>12/1/2016</td>\n",
       "      <td>0.39</td>\n",
       "      <td>WILLIAMS BROTHERS CONSTRUCTION CO. INC.</td>\n",
       "      <td>73929401.69</td>\n",
       "      <td>7</td>\n",
       "      <td>13677444.11</td>\n",
       "      <td>PULICE CONSTRUCTION INC. | $83,702,317.31; THE LANE CONSTRUCTION CORPORATION | $84,156,037.80; WILLIAMS BROTHERS CONSTRUCTION CO. INC. | $73,929,401.69; FLATIRON CONSTRUCTORS INC. | $79,922,832.75; WEBBER LLC | $87,606,845.80; ZACHRY CONSTRUCTION CORPORATION | $85,982,411.71; MCCARTHY BUILDING COMPANIES INC. | $86,132,345.12</td>\n",
       "      <td>BEXAR</td>\n",
       "      <td>12</td>\n",
       "    </tr>\n",
       "    <tr>\n",
       "      <th>1</th>\n",
       "      <td>NH 2017(364)</td>\n",
       "      <td>3005</td>\n",
       "      <td>70</td>\n",
       "      <td>9271227.00</td>\n",
       "      <td>12/1/2016</td>\n",
       "      <td>245.98</td>\n",
       "      <td>LIPHAM ASPHALT AND PAVING COMPANY LLC</td>\n",
       "      <td>8458527.23</td>\n",
       "      <td>4</td>\n",
       "      <td>980483.12</td>\n",
       "      <td>NORTHEASTERN PAVERS INC. | $8,685,268.42; MISSOURI PETROLEUM PRODUCTS COMPANY LLC | $9,108,664.77; BRANNAN PAVING CO. LTD. | $9,439,010.35; LIPHAM ASPHALT AND PAVING COMPANY LLC | $8,458,527.23</td>\n",
       "      <td>CALLAHAN</td>\n",
       "      <td>12</td>\n",
       "    </tr>\n",
       "  </tbody>\n",
       "</table>\n",
       "</div>"
      ],
      "text/plain": [
       "        proj_ID  seq_no  time    estimate   let_date  length  \\\n",
       "0  NH 1602(247)    3001  1000 85290427.93  12/1/2016    0.39   \n",
       "1  NH 2017(364)    3005    70  9271227.00  12/1/2016  245.98   \n",
       "\n",
       "                                    winner     win_amt  num_bids  bid_spread  \\\n",
       "0  WILLIAMS BROTHERS CONSTRUCTION CO. INC. 73929401.69         7 13677444.11   \n",
       "1    LIPHAM ASPHALT AND PAVING COMPANY LLC  8458527.23         4   980483.12   \n",
       "\n",
       "                                                                                                                                                                                                                                                                                                                            compiled_bids  \\\n",
       "0  PULICE CONSTRUCTION INC. | $83,702,317.31; THE LANE CONSTRUCTION CORPORATION | $84,156,037.80; WILLIAMS BROTHERS CONSTRUCTION CO. INC. | $73,929,401.69; FLATIRON CONSTRUCTORS INC. | $79,922,832.75; WEBBER LLC | $87,606,845.80; ZACHRY CONSTRUCTION CORPORATION | $85,982,411.71; MCCARTHY BUILDING COMPANIES INC. | $86,132,345.12   \n",
       "1                                                                                                                                       NORTHEASTERN PAVERS INC. | $8,685,268.42; MISSOURI PETROLEUM PRODUCTS COMPANY LLC | $9,108,664.77; BRANNAN PAVING CO. LTD. | $9,439,010.35; LIPHAM ASPHALT AND PAVING COMPANY LLC | $8,458,527.23   \n",
       "\n",
       "     county  month  \n",
       "0     BEXAR     12  \n",
       "1  CALLAHAN     12  "
      ]
     },
<<<<<<< HEAD
     "execution_count": 31,
=======
     "execution_count": 192,
>>>>>>> d69fbd57b2e69dfb43bfc8384a6e1d91753fc4ff
     "metadata": {},
     "output_type": "execute_result"
    }
   ],
   "source": [
    "np.random.seed(42)\n",
    "# Read the excel sheet using pandas\n",
    "bidsData = pd.read_csv('Dataset/cleaned_bids.csv')\n",
<<<<<<< HEAD
    "# bidsData.drop(columns=['winner', 'compiled_bids','bid_spread'])\n",
=======
    "\n",
>>>>>>> d69fbd57b2e69dfb43bfc8384a6e1d91753fc4ff
    "# display the 1st 2 rows\n",
    "bidsData.head(2)"
   ]
  },
  {
   "cell_type": "markdown",
   "metadata": {},
   "source": [
    "## Modeling"
   ]
  },
  {
   "cell_type": "code",
<<<<<<< HEAD
   "execution_count": 32,
   "metadata": {},
   "outputs": [],
   "source": [
    "# bidsData['0'].unique()"
   ]
  },
  {
   "cell_type": "code",
   "execution_count": 43,
=======
   "execution_count": 193,
>>>>>>> d69fbd57b2e69dfb43bfc8384a6e1d91753fc4ff
   "metadata": {},
   "outputs": [],
   "source": [
    "X = bidsData[['time', 'estimate', 'length', 'num_bids']]\n",
    "y = bidsData['win_amt']"
   ]
  },
  {
   "cell_type": "markdown",
   "metadata": {},
   "source": [
    "### Test size as 0.5"
   ]
  },
  {
   "cell_type": "code",
<<<<<<< HEAD
   "execution_count": 44,
=======
   "execution_count": 194,
>>>>>>> d69fbd57b2e69dfb43bfc8384a6e1d91753fc4ff
   "metadata": {},
   "outputs": [
    {
     "name": "stdout",
     "output_type": "stream",
     "text": [
<<<<<<< HEAD
      "train r2 score before ss:  0.9901435832518661\n",
      "test r2 score before ss:  0.9949110235282508\n",
      "CVV as 5:  [0.98887718 0.9944713  0.99665333 0.99138552 0.99807204]\n",
      "Mean Square error is : 16768960.930688623\n",
      "R^2 score after ss train  : -0.11458777193690839\n",
      "R^2 score after ss test : -0.12930700808198803\n",
      "Cross val score train:  0.9877892578267016\n",
      "Cross Val score test:  0.9938918738930695\n"
=======
      "train r2 score before ss:  0.9954827433358518\n",
      "test r2 score before ss:  0.9815792267979184\n",
      "CVV as 5:  [0.99363513 0.98495012 0.97239104 0.98133698 0.97314257]\n",
      "Mean Square error is : 19098920.10533621\n",
      "R^2 score after ss train  : -0.10904735323124215\n",
      "R^2 score after ss test : -0.09688187045056695\n",
      "Cross val score train:  0.9920468700452879\n",
      "Cross Val score test:  0.9810911710858964\n"
>>>>>>> d69fbd57b2e69dfb43bfc8384a6e1d91753fc4ff
     ]
    },
    {
     "data": {
<<<<<<< HEAD
      "image/png": "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\n",
      "text/plain": [
       "<Figure size 432x288 with 1 Axes>"
=======
      "image/png": "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\n",
      "text/plain": [
       "<matplotlib.figure.Figure at 0x1a14fd2fd0>"
>>>>>>> d69fbd57b2e69dfb43bfc8384a6e1d91753fc4ff
      ]
     },
     "metadata": {},
     "output_type": "display_data"
    }
   ],
   "source": [
    "#  Train-test split\n",
    "X_train, X_test, y_train, y_test = train_test_split(X, y, test_size = 0.3)\n",
    "\n",
    "lr = LinearRegression()\n",
    "lr.fit(X_train, y_train)\n",
    "print(\"train r2 score before ss: \",lr.score(X_train, y_train))\n",
    "print(\"test r2 score before ss: \", lr.score(X_test, y_test))\n",
    "\n",
    "ss = StandardScaler()\n",
    "\n",
    "X_train_scaled = ss.fit_transform(X_train)\n",
    "X_test_scaled = ss.transform(X_test)\n",
    "\n",
    "model = ss.fit_transform(X_train_scaled, y_train)\n",
    "\n",
    "#  Plot predictions\n",
    "predictions = lr.predict(X_test_scaled)\n",
    "\n",
    "plt.scatter(y_test, predictions)\n",
    "plt.xlabel('y_test')\n",
    "\n",
    "plt.ylabel('predictions')\n",
    "\n",
    "# CVV, MSE ad R2 score\n",
    "print('CVV as 5: ', cross_val_score(lr, X_test_scaled, y_test, cv=5))\n",
    "print(\"Mean Square error is :\", np.sqrt(mean_squared_error(y_test, lr.predict(X_test_scaled))))\n",
    "print(\"R^2 score after ss train  :\", r2_score(y_train, lr.predict(X_train_scaled)))\n",
    "print(\"R^2 score after ss test :\", r2_score(y_test, lr.predict(X_test_scaled)))\n",
    "pd.DataFrame({'variable': X.columns, f'_coefficient': lr.coef_}).sort_values(by=f'_coefficient')\n",
    "print('Cross val score train: ',cross_val_score(LinearRegression(), X_train, y_train, cv=5).mean())\n",
    "print(\"Cross Val score test: \", cross_val_score(LinearRegression(), X_test_scaled, y_test, cv=5).mean())"
   ]
  },
  {
   "cell_type": "code",
<<<<<<< HEAD
   "execution_count": 45,
=======
   "execution_count": 195,
>>>>>>> d69fbd57b2e69dfb43bfc8384a6e1d91753fc4ff
   "metadata": {},
   "outputs": [
    {
     "data": {
      "text/html": [
       "<div>\n",
       "<style scoped>\n",
       "    .dataframe tbody tr th:only-of-type {\n",
       "        vertical-align: middle;\n",
       "    }\n",
       "\n",
       "    .dataframe tbody tr th {\n",
       "        vertical-align: top;\n",
       "    }\n",
       "\n",
       "    .dataframe thead th {\n",
       "        text-align: right;\n",
       "    }\n",
       "</style>\n",
       "<table border=\"1\" class=\"dataframe\">\n",
       "  <thead>\n",
       "    <tr style=\"text-align: right;\">\n",
       "      <th></th>\n",
<<<<<<< HEAD
       "      <th>estimate</th>\n",
=======
       "      <th>time</th>\n",
       "      <th>estimate</th>\n",
       "      <th>length</th>\n",
       "      <th>num_bids</th>\n",
>>>>>>> d69fbd57b2e69dfb43bfc8384a6e1d91753fc4ff
       "      <th>Prediction</th>\n",
       "      <th>Actual</th>\n",
       "      <th>Variance</th>\n",
       "    </tr>\n",
       "  </thead>\n",
       "  <tbody>\n",
       "    <tr>\n",
<<<<<<< HEAD
       "      <th>239</th>\n",
       "      <td>555670.00</td>\n",
       "      <td>-273536.92</td>\n",
       "      <td>469792.50</td>\n",
       "      <td>-743329.42</td>\n",
       "    </tr>\n",
       "    <tr>\n",
       "      <th>544</th>\n",
       "      <td>2450688.54</td>\n",
       "      <td>-273536.82</td>\n",
       "      <td>1388888.87</td>\n",
       "      <td>-1662425.69</td>\n",
       "    </tr>\n",
       "    <tr>\n",
       "      <th>768</th>\n",
       "      <td>2204249.05</td>\n",
       "      <td>-273536.83</td>\n",
       "      <td>1750000.00</td>\n",
       "      <td>-2023536.83</td>\n",
       "    </tr>\n",
       "    <tr>\n",
       "      <th>212</th>\n",
       "      <td>354472.00</td>\n",
       "      <td>-273536.93</td>\n",
       "      <td>311986.00</td>\n",
       "      <td>-585522.93</td>\n",
       "    </tr>\n",
       "    <tr>\n",
       "      <th>722</th>\n",
       "      <td>260072.40</td>\n",
       "      <td>-273536.94</td>\n",
       "      <td>225289.00</td>\n",
       "      <td>-498825.94</td>\n",
=======
       "      <th>940</th>\n",
       "      <td>84</td>\n",
       "      <td>3526078.05</td>\n",
       "      <td>3.37</td>\n",
       "      <td>4</td>\n",
       "      <td>101912.11</td>\n",
       "      <td>2807514.44</td>\n",
       "      <td>-2705602.33</td>\n",
       "    </tr>\n",
       "    <tr>\n",
       "      <th>986</th>\n",
       "      <td>280</td>\n",
       "      <td>5208994.70</td>\n",
       "      <td>0.53</td>\n",
       "      <td>6</td>\n",
       "      <td>54982.13</td>\n",
       "      <td>4253525.11</td>\n",
       "      <td>-4198542.98</td>\n",
       "    </tr>\n",
       "    <tr>\n",
       "      <th>405</th>\n",
       "      <td>120</td>\n",
       "      <td>475030.50</td>\n",
       "      <td>0.01</td>\n",
       "      <td>3</td>\n",
       "      <td>125852.07</td>\n",
       "      <td>455673.00</td>\n",
       "      <td>-329820.93</td>\n",
       "    </tr>\n",
       "    <tr>\n",
       "      <th>721</th>\n",
       "      <td>240</td>\n",
       "      <td>1919491.30</td>\n",
       "      <td>0.20</td>\n",
       "      <td>2</td>\n",
       "      <td>150062.86</td>\n",
       "      <td>1699468.02</td>\n",
       "      <td>-1549405.16</td>\n",
       "    </tr>\n",
       "    <tr>\n",
       "      <th>1610</th>\n",
       "      <td>360</td>\n",
       "      <td>12492719.18</td>\n",
       "      <td>11.44</td>\n",
       "      <td>5</td>\n",
       "      <td>79012.78</td>\n",
       "      <td>11187471.33</td>\n",
       "      <td>-11108458.55</td>\n",
>>>>>>> d69fbd57b2e69dfb43bfc8384a6e1d91753fc4ff
       "    </tr>\n",
       "  </tbody>\n",
       "</table>\n",
       "</div>"
      ],
      "text/plain": [
<<<<<<< HEAD
       "      estimate  Prediction     Actual    Variance\n",
       "239  555670.00  -273536.92  469792.50  -743329.42\n",
       "544 2450688.54  -273536.82 1388888.87 -1662425.69\n",
       "768 2204249.05  -273536.83 1750000.00 -2023536.83\n",
       "212  354472.00  -273536.93  311986.00  -585522.93\n",
       "722  260072.40  -273536.94  225289.00  -498825.94"
      ]
     },
     "execution_count": 45,
=======
       "      time    estimate  length  num_bids  Prediction      Actual     Variance\n",
       "940     84  3526078.05    3.37         4   101912.11  2807514.44  -2705602.33\n",
       "986    280  5208994.70    0.53         6    54982.13  4253525.11  -4198542.98\n",
       "405    120   475030.50    0.01         3   125852.07   455673.00   -329820.93\n",
       "721    240  1919491.30    0.20         2   150062.86  1699468.02  -1549405.16\n",
       "1610   360 12492719.18   11.44         5    79012.78 11187471.33 -11108458.55"
      ]
     },
     "execution_count": 195,
>>>>>>> d69fbd57b2e69dfb43bfc8384a6e1d91753fc4ff
     "metadata": {},
     "output_type": "execute_result"
    }
   ],
   "source": [
    "test_dataSet = X_test.copy()\n",
    "test_dataSet['Prediction']= predictions\n",
    "\n",
    "test_dataSet['Actual'] = y_test\n",
    "test_dataSet['Variance'] = predictions - y_test\n",
    "\n",
    "test_dataSet.head()"
   ]
  },
  {
   "cell_type": "code",
<<<<<<< HEAD
   "execution_count": 46,
=======
   "execution_count": 196,
>>>>>>> d69fbd57b2e69dfb43bfc8384a6e1d91753fc4ff
   "metadata": {},
   "outputs": [
    {
     "name": "stdout",
     "output_type": "stream",
     "text": [
<<<<<<< HEAD
      "0.981339094496976\n",
      "0.9947888500514938\n",
      "0.9930148389566893\n"
=======
      "0.9816068506491046\n",
      "0.994826536737806\n",
      "0.9930608256636176\n"
>>>>>>> d69fbd57b2e69dfb43bfc8384a6e1d91753fc4ff
     ]
    }
   ],
   "source": [
    "kf =KFold(n_splits=3, shuffle=True, random_state=42)\n",
    "\n",
    "for train_indices, test_indices in kf.split(X, y):\n",
    "#     print('train' ,train_indices)\n",
    "#     print('test' ,test_indices)\n",
    "#     print('')\n",
    "    X_train_fold = X.loc[train_indices, :] \n",
    "    X_test_fold = X.loc[test_indices, :]\n",
    "    y_train_fold = y[train_indices] \n",
    "    y_test_fold = y[test_indices]\n",
    "    fold_lr = LinearRegression()\n",
    "    fold_lr.fit(X_train_fold, y_train_fold)\n",
    "    print(fold_lr.score(X_test_fold, y_test_fold))"
   ]
  },
  {
   "cell_type": "markdown",
   "metadata": {},
   "source": [
    "### Test size as 0.3"
   ]
  },
  {
   "cell_type": "code",
<<<<<<< HEAD
   "execution_count": 47,
=======
   "execution_count": 197,
>>>>>>> d69fbd57b2e69dfb43bfc8384a6e1d91753fc4ff
   "metadata": {},
   "outputs": [
    {
     "name": "stdout",
     "output_type": "stream",
     "text": [
<<<<<<< HEAD
      "train r2 score before ss:  0.9885881825520435\n",
      "test r2 score before ss:  0.9972276979025956\n",
      "CVV as 5:  [0.99259004 0.99615958 0.99851961 0.97126149 0.99885069]\n",
      "Mean Square error is : 18753354.30692943\n",
      "R^2 score after ss train  : -0.13105464226564711\n",
      "R^2 score after ss test : -0.08873425514573197\n",
      "Cross val score train:  0.987582192647557\n",
      "Cross Val score test:  0.9914762820160808\n"
=======
      "train r2 score before ss:  0.9890595515167977\n",
      "test r2 score before ss:  0.9959263426278918\n",
      "CVV as 5:  [0.99437335 0.98446748 0.99909709 0.99491594 0.99763112]\n",
      "Mean Square error is : 19270504.081681307\n",
      "R^2 score after ss train  : -0.11292656938955337\n",
      "R^2 score after ss test : -0.0843940780475756\n",
      "Cross val score train:  0.9889615854995547\n",
      "Cross Val score test:  0.9940969931066597\n"
>>>>>>> d69fbd57b2e69dfb43bfc8384a6e1d91753fc4ff
     ]
    },
    {
     "data": {
<<<<<<< HEAD
      "image/png": "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\n",
      "text/plain": [
       "<Figure size 432x288 with 1 Axes>"
=======
      "image/png": "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\n",
      "text/plain": [
       "<matplotlib.figure.Figure at 0x1a15c9e240>"
>>>>>>> d69fbd57b2e69dfb43bfc8384a6e1d91753fc4ff
      ]
     },
     "metadata": {},
     "output_type": "display_data"
    }
   ],
   "source": [
    "#  Train-test split\n",
    "X_train, X_test, y_train, y_test = train_test_split(X, y, test_size = 0.3)\n",
    "\n",
    "lr = LinearRegression()\n",
    "lr.fit(X_train, y_train)\n",
    "print(\"train r2 score before ss: \",lr.score(X_train, y_train))\n",
    "print(\"test r2 score before ss: \", lr.score(X_test, y_test))\n",
    "\n",
    "ss = StandardScaler()\n",
    "\n",
    "X_train_scaled = ss.fit_transform(X_train)\n",
    "X_test_scaled = ss.transform(X_test)\n",
    "\n",
    "model = ss.fit_transform(X_train_scaled, y_train)\n",
    "#  Plot predictions\n",
    "predictions = lr.predict(X_test_scaled)\n",
    "\n",
    "plt.scatter(y_test, predictions)\n",
    "plt.xlabel('y_test')\n",
    "\n",
    "plt.ylabel('predictions')\n",
    "\n",
    "# CVV, MSE ad R2 score\n",
    "print('CVV as 5: ', cross_val_score(lr, X_test_scaled, y_test, cv=5))\n",
    "print(\"Mean Square error is :\", np.sqrt(mean_squared_error(y_test, lr.predict(X_test_scaled))))\n",
    "print(\"R^2 score after ss train  :\", r2_score(y_train, lr.predict(X_train_scaled)))\n",
    "print(\"R^2 score after ss test :\", r2_score(y_test, lr.predict(X_test_scaled)))\n",
    "pd.DataFrame({'variable': X.columns, f'_coefficient': lr.coef_}).sort_values(by=f'_coefficient')\n",
    "print('Cross val score train: ',cross_val_score(LinearRegression(), X_train, y_train, cv=5).mean())\n",
    "print(\"Cross Val score test: \", cross_val_score(LinearRegression(), X_test_scaled, y_test, cv=5).mean())\n",
    "\n"
   ]
  },
  {
   "cell_type": "code",
<<<<<<< HEAD
   "execution_count": 48,
=======
   "execution_count": 198,
>>>>>>> d69fbd57b2e69dfb43bfc8384a6e1d91753fc4ff
   "metadata": {},
   "outputs": [
    {
     "data": {
      "text/html": [
       "<div>\n",
       "<style scoped>\n",
       "    .dataframe tbody tr th:only-of-type {\n",
       "        vertical-align: middle;\n",
       "    }\n",
       "\n",
       "    .dataframe tbody tr th {\n",
       "        vertical-align: top;\n",
       "    }\n",
       "\n",
       "    .dataframe thead th {\n",
       "        text-align: right;\n",
       "    }\n",
       "</style>\n",
       "<table border=\"1\" class=\"dataframe\">\n",
       "  <thead>\n",
       "    <tr style=\"text-align: right;\">\n",
       "      <th></th>\n",
<<<<<<< HEAD
       "      <th>estimate</th>\n",
=======
       "      <th>time</th>\n",
       "      <th>estimate</th>\n",
       "      <th>length</th>\n",
       "      <th>num_bids</th>\n",
>>>>>>> d69fbd57b2e69dfb43bfc8384a6e1d91753fc4ff
       "      <th>Prediction</th>\n",
       "      <th>Actual</th>\n",
       "      <th>Variance</th>\n",
       "    </tr>\n",
       "  </thead>\n",
       "  <tbody>\n",
       "    <tr>\n",
<<<<<<< HEAD
       "      <th>563</th>\n",
       "      <td>302853.60</td>\n",
       "      <td>-248851.19</td>\n",
       "      <td>209620.00</td>\n",
       "      <td>-458471.19</td>\n",
       "    </tr>\n",
       "    <tr>\n",
       "      <th>1425</th>\n",
       "      <td>589625.24</td>\n",
       "      <td>-248851.17</td>\n",
       "      <td>639412.88</td>\n",
       "      <td>-888264.05</td>\n",
       "    </tr>\n",
       "    <tr>\n",
       "      <th>120</th>\n",
       "      <td>495393.75</td>\n",
       "      <td>-248851.18</td>\n",
       "      <td>683925.00</td>\n",
       "      <td>-932776.18</td>\n",
       "    </tr>\n",
       "    <tr>\n",
       "      <th>1635</th>\n",
       "      <td>551721.50</td>\n",
       "      <td>-248851.17</td>\n",
       "      <td>542994.35</td>\n",
       "      <td>-791845.52</td>\n",
       "    </tr>\n",
       "    <tr>\n",
       "      <th>489</th>\n",
       "      <td>657430.00</td>\n",
       "      <td>-248851.17</td>\n",
       "      <td>671325.95</td>\n",
       "      <td>-920177.12</td>\n",
=======
       "      <th>52</th>\n",
       "      <td>93</td>\n",
       "      <td>532514.13</td>\n",
       "      <td>0.20</td>\n",
       "      <td>6</td>\n",
       "      <td>96435.76</td>\n",
       "      <td>412715.00</td>\n",
       "      <td>-316279.24</td>\n",
       "    </tr>\n",
       "    <tr>\n",
       "      <th>679</th>\n",
       "      <td>86</td>\n",
       "      <td>1430045.50</td>\n",
       "      <td>1.26</td>\n",
       "      <td>6</td>\n",
       "      <td>96396.28</td>\n",
       "      <td>1562281.63</td>\n",
       "      <td>-1465885.35</td>\n",
       "    </tr>\n",
       "    <tr>\n",
       "      <th>969</th>\n",
       "      <td>548</td>\n",
       "      <td>905020.00</td>\n",
       "      <td>18.69</td>\n",
       "      <td>2</td>\n",
       "      <td>264250.59</td>\n",
       "      <td>1174127.00</td>\n",
       "      <td>-909876.41</td>\n",
       "    </tr>\n",
       "    <tr>\n",
       "      <th>1251</th>\n",
       "      <td>120</td>\n",
       "      <td>906325.50</td>\n",
       "      <td>0.01</td>\n",
       "      <td>5</td>\n",
       "      <td>138036.12</td>\n",
       "      <td>827634.40</td>\n",
       "      <td>-689598.28</td>\n",
       "    </tr>\n",
       "    <tr>\n",
       "      <th>203</th>\n",
       "      <td>187</td>\n",
       "      <td>2164831.00</td>\n",
       "      <td>16.34</td>\n",
       "      <td>6</td>\n",
       "      <td>96735.35</td>\n",
       "      <td>1557630.87</td>\n",
       "      <td>-1460895.52</td>\n",
>>>>>>> d69fbd57b2e69dfb43bfc8384a6e1d91753fc4ff
       "    </tr>\n",
       "  </tbody>\n",
       "</table>\n",
       "</div>"
      ],
      "text/plain": [
<<<<<<< HEAD
       "      estimate  Prediction    Actual   Variance\n",
       "563  302853.60  -248851.19 209620.00 -458471.19\n",
       "1425 589625.24  -248851.17 639412.88 -888264.05\n",
       "120  495393.75  -248851.18 683925.00 -932776.18\n",
       "1635 551721.50  -248851.17 542994.35 -791845.52\n",
       "489  657430.00  -248851.17 671325.95 -920177.12"
      ]
     },
     "execution_count": 48,
=======
       "      time   estimate  length  num_bids  Prediction     Actual    Variance\n",
       "52      93  532514.13    0.20         6    96435.76  412715.00  -316279.24\n",
       "679     86 1430045.50    1.26         6    96396.28 1562281.63 -1465885.35\n",
       "969    548  905020.00   18.69         2   264250.59 1174127.00  -909876.41\n",
       "1251   120  906325.50    0.01         5   138036.12  827634.40  -689598.28\n",
       "203    187 2164831.00   16.34         6    96735.35 1557630.87 -1460895.52"
      ]
     },
     "execution_count": 198,
>>>>>>> d69fbd57b2e69dfb43bfc8384a6e1d91753fc4ff
     "metadata": {},
     "output_type": "execute_result"
    }
   ],
   "source": [
    "test_dataSet = X_test.copy()\n",
    "test_dataSet['Prediction']= predictions\n",
    "\n",
    "test_dataSet['Actual'] = y_test\n",
    "test_dataSet['Variance'] = predictions - y_test\n",
    "\n",
    "test_dataSet.head()"
   ]
  },
  {
   "cell_type": "code",
<<<<<<< HEAD
   "execution_count": 49,
=======
   "execution_count": 199,
>>>>>>> d69fbd57b2e69dfb43bfc8384a6e1d91753fc4ff
   "metadata": {},
   "outputs": [
    {
     "name": "stdout",
     "output_type": "stream",
     "text": [
<<<<<<< HEAD
      "0.981339094496976\n",
      "0.9947888500514938\n",
      "0.9930148389566893\n"
=======
      "0.9816068506491046\n",
      "0.994826536737806\n",
      "0.9930608256636176\n"
>>>>>>> d69fbd57b2e69dfb43bfc8384a6e1d91753fc4ff
     ]
    }
   ],
   "source": [
    "kf =KFold(n_splits=3, shuffle=True, random_state=42)\n",
    "\n",
    "for train_indices, test_indices in kf.split(X, y):\n",
    "#     print('train' ,train_indices)\n",
    "#     print('test' ,test_indices)\n",
    "#     print('')\n",
    "    X_train_fold = X.loc[train_indices, :] \n",
    "    X_test_fold = X.loc[test_indices, :]\n",
    "    y_train_fold = y[train_indices] \n",
    "    y_test_fold = y[test_indices]\n",
    "    fold_lr = LinearRegression()\n",
    "    fold_lr.fit(X_train_fold, y_train_fold)\n",
    "    print(fold_lr.score(X_test_fold, y_test_fold))"
   ]
  },
  {
   "cell_type": "markdown",
   "metadata": {},
   "source": [
    "### Test size as 0.1"
   ]
  },
  {
   "cell_type": "code",
<<<<<<< HEAD
   "execution_count": 50,
=======
   "execution_count": 200,
>>>>>>> d69fbd57b2e69dfb43bfc8384a6e1d91753fc4ff
   "metadata": {},
   "outputs": [
    {
     "name": "stdout",
     "output_type": "stream",
     "text": [
<<<<<<< HEAD
      "train r2 score before ss:  0.9915149747657069\n",
      "test r2 score before ss:  0.989391754329754\n",
      "CVV as 5:  [0.99093215 0.94366873 0.97854118 0.99612782 0.99164993]\n",
      "Mean Square error is : 17944409.68692801\n",
      "R^2 score after ss train  : -0.11141351554974865\n",
      "R^2 score after ss test : -0.17503636617156282\n",
      "Cross val score train:  0.9909056193370258\n",
      "Cross Val score test:  0.9801839639867254\n"
=======
      "train r2 score before ss:  0.9917043147867634\n",
      "test r2 score before ss:  0.9774605523693793\n",
      "CVV as 5:  [0.93335838 0.97111859 0.98012849 0.93372302 0.96798755]\n",
      "Mean Square error is : 7684261.920753863\n",
      "R^2 score after ss train  : -0.10476554171812857\n",
      "R^2 score after ss test : -0.2971751801137059\n",
      "Cross val score train:  0.9921506914614204\n",
      "Cross Val score test:  0.9572632070901201\n"
>>>>>>> d69fbd57b2e69dfb43bfc8384a6e1d91753fc4ff
     ]
    },
    {
     "data": {
<<<<<<< HEAD
      "image/png": "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\n",
      "text/plain": [
       "<Figure size 432x288 with 1 Axes>"
=======
      "image/png": "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\n",
      "text/plain": [
       "<matplotlib.figure.Figure at 0x1a140ffc88>"
>>>>>>> d69fbd57b2e69dfb43bfc8384a6e1d91753fc4ff
      ]
     },
     "metadata": {},
     "output_type": "display_data"
    }
   ],
   "source": [
    "#  Train-test split\n",
    "X_train, X_test, y_train, y_test = train_test_split(X, y, test_size = 0.1)\n",
    "\n",
    "lr = LinearRegression()\n",
    "lr.fit(X_train, y_train)\n",
    "print(\"train r2 score before ss: \",lr.score(X_train, y_train))\n",
    "print(\"test r2 score before ss: \", lr.score(X_test, y_test))\n",
    "\n",
    "ss = StandardScaler()\n",
    "\n",
    "X_train_scaled = ss.fit_transform(X_train)\n",
    "X_test_scaled = ss.transform(X_test)\n",
    "\n",
    "model = ss.fit_transform(X_train_scaled, y_train)\n",
    "\n",
    "#  Plot predictions\n",
    "predictions = lr.predict(X_test_scaled)\n",
    "\n",
    "plt.scatter(y_test, predictions)\n",
    "plt.xlabel('y_test')\n",
    "\n",
    "plt.ylabel('predictions')\n",
    "\n",
    "# CVV, MSE ad R2 score\n",
    "print('CVV as 5: ', cross_val_score(lr, X_test_scaled, y_test, cv=5))\n",
    "print(\"Mean Square error is :\", np.sqrt(mean_squared_error(y_test, lr.predict(X_test_scaled))))\n",
    "print(\"R^2 score after ss train  :\", r2_score(y_train, lr.predict(X_train_scaled)))\n",
    "print(\"R^2 score after ss test :\", r2_score(y_test, lr.predict(X_test_scaled)))\n",
    "pd.DataFrame({'variable': X.columns, f'_coefficient': lr.coef_}).sort_values(by=f'_coefficient')\n",
    "print('Cross val score train: ',cross_val_score(LinearRegression(), X_train, y_train, cv=5).mean())\n",
    "print(\"Cross Val score test: \", cross_val_score(LinearRegression(), X_test_scaled, y_test, cv=5).mean())\n",
    "\n",
    "\n"
   ]
  },
  {
   "cell_type": "code",
<<<<<<< HEAD
   "execution_count": 51,
=======
   "execution_count": 201,
>>>>>>> d69fbd57b2e69dfb43bfc8384a6e1d91753fc4ff
   "metadata": {},
   "outputs": [
    {
     "data": {
      "text/html": [
       "<div>\n",
       "<style scoped>\n",
       "    .dataframe tbody tr th:only-of-type {\n",
       "        vertical-align: middle;\n",
       "    }\n",
       "\n",
       "    .dataframe tbody tr th {\n",
       "        vertical-align: top;\n",
       "    }\n",
       "\n",
       "    .dataframe thead th {\n",
       "        text-align: right;\n",
       "    }\n",
       "</style>\n",
       "<table border=\"1\" class=\"dataframe\">\n",
       "  <thead>\n",
       "    <tr style=\"text-align: right;\">\n",
       "      <th></th>\n",
<<<<<<< HEAD
       "      <th>estimate</th>\n",
=======
       "      <th>time</th>\n",
       "      <th>estimate</th>\n",
       "      <th>length</th>\n",
       "      <th>num_bids</th>\n",
>>>>>>> d69fbd57b2e69dfb43bfc8384a6e1d91753fc4ff
       "      <th>Prediction</th>\n",
       "      <th>Actual</th>\n",
       "      <th>Variance</th>\n",
       "    </tr>\n",
       "  </thead>\n",
       "  <tbody>\n",
       "    <tr>\n",
<<<<<<< HEAD
       "      <th>929</th>\n",
       "      <td>4676205.55</td>\n",
       "      <td>-241914.37</td>\n",
       "      <td>4165121.12</td>\n",
       "      <td>-4407035.49</td>\n",
       "    </tr>\n",
       "    <tr>\n",
       "      <th>744</th>\n",
       "      <td>1873414.55</td>\n",
       "      <td>-241914.53</td>\n",
       "      <td>1603286.66</td>\n",
       "      <td>-1845201.19</td>\n",
       "    </tr>\n",
       "    <tr>\n",
       "      <th>962</th>\n",
       "      <td>1914000.00</td>\n",
       "      <td>-241914.53</td>\n",
       "      <td>1841385.45</td>\n",
       "      <td>-2083299.98</td>\n",
       "    </tr>\n",
       "    <tr>\n",
       "      <th>733</th>\n",
       "      <td>677614.00</td>\n",
       "      <td>-241914.60</td>\n",
       "      <td>603661.00</td>\n",
       "      <td>-845575.60</td>\n",
       "    </tr>\n",
       "    <tr>\n",
       "      <th>1254</th>\n",
       "      <td>997101.60</td>\n",
       "      <td>-241914.58</td>\n",
       "      <td>857456.50</td>\n",
       "      <td>-1099371.08</td>\n",
=======
       "      <th>151</th>\n",
       "      <td>541</td>\n",
       "      <td>19851943.94</td>\n",
       "      <td>0.59</td>\n",
       "      <td>12</td>\n",
       "      <td>-165275.17</td>\n",
       "      <td>18405188.99</td>\n",
       "      <td>-18570464.16</td>\n",
       "    </tr>\n",
       "    <tr>\n",
       "      <th>807</th>\n",
       "      <td>165</td>\n",
       "      <td>4572924.25</td>\n",
       "      <td>2.09</td>\n",
       "      <td>1</td>\n",
       "      <td>188223.66</td>\n",
       "      <td>4467052.10</td>\n",
       "      <td>-4278828.44</td>\n",
       "    </tr>\n",
       "    <tr>\n",
       "      <th>621</th>\n",
       "      <td>102</td>\n",
       "      <td>2753799.70</td>\n",
       "      <td>2.40</td>\n",
       "      <td>8</td>\n",
       "      <td>-38261.62</td>\n",
       "      <td>2680558.94</td>\n",
       "      <td>-2718820.56</td>\n",
       "    </tr>\n",
       "    <tr>\n",
       "      <th>966</th>\n",
       "      <td>88</td>\n",
       "      <td>4362510.30</td>\n",
       "      <td>135.00</td>\n",
       "      <td>5</td>\n",
       "      <td>57422.26</td>\n",
       "      <td>3761543.11</td>\n",
       "      <td>-3704120.85</td>\n",
       "    </tr>\n",
       "    <tr>\n",
       "      <th>1202</th>\n",
       "      <td>67</td>\n",
       "      <td>1812752.25</td>\n",
       "      <td>1.54</td>\n",
       "      <td>5</td>\n",
       "      <td>58498.10</td>\n",
       "      <td>1708497.38</td>\n",
       "      <td>-1649999.28</td>\n",
>>>>>>> d69fbd57b2e69dfb43bfc8384a6e1d91753fc4ff
       "    </tr>\n",
       "  </tbody>\n",
       "</table>\n",
       "</div>"
      ],
      "text/plain": [
<<<<<<< HEAD
       "       estimate  Prediction     Actual    Variance\n",
       "929  4676205.55  -241914.37 4165121.12 -4407035.49\n",
       "744  1873414.55  -241914.53 1603286.66 -1845201.19\n",
       "962  1914000.00  -241914.53 1841385.45 -2083299.98\n",
       "733   677614.00  -241914.60  603661.00  -845575.60\n",
       "1254  997101.60  -241914.58  857456.50 -1099371.08"
      ]
     },
     "execution_count": 51,
=======
       "      time    estimate  length  num_bids  Prediction      Actual     Variance\n",
       "151    541 19851943.94    0.59        12  -165275.17 18405188.99 -18570464.16\n",
       "807    165  4572924.25    2.09         1   188223.66  4467052.10  -4278828.44\n",
       "621    102  2753799.70    2.40         8   -38261.62  2680558.94  -2718820.56\n",
       "966     88  4362510.30  135.00         5    57422.26  3761543.11  -3704120.85\n",
       "1202    67  1812752.25    1.54         5    58498.10  1708497.38  -1649999.28"
      ]
     },
     "execution_count": 201,
>>>>>>> d69fbd57b2e69dfb43bfc8384a6e1d91753fc4ff
     "metadata": {},
     "output_type": "execute_result"
    }
   ],
   "source": [
    "test_dataSet = X_test.copy()\n",
    "test_dataSet['Prediction']= predictions\n",
    "\n",
    "test_dataSet['Actual'] = y_test\n",
    "test_dataSet['Variance'] = predictions - y_test\n",
    "\n",
    "test_dataSet.head()"
   ]
  },
  {
   "cell_type": "code",
<<<<<<< HEAD
   "execution_count": 52,
=======
   "execution_count": 202,
>>>>>>> d69fbd57b2e69dfb43bfc8384a6e1d91753fc4ff
   "metadata": {},
   "outputs": [
    {
     "name": "stdout",
     "output_type": "stream",
     "text": [
<<<<<<< HEAD
      "0.981339094496976\n",
      "0.9947888500514938\n",
      "0.9930148389566893\n"
=======
      "0.9816068506491046\n",
      "0.994826536737806\n",
      "0.9930608256636176\n"
>>>>>>> d69fbd57b2e69dfb43bfc8384a6e1d91753fc4ff
     ]
    }
   ],
   "source": [
    "kf =KFold(n_splits=3, shuffle=True, random_state=42)\n",
    "\n",
    "for train_indices, test_indices in kf.split(X, y):\n",
    "#     print('train' ,train_indices)\n",
    "#     print('test' ,test_indices)\n",
    "#     print('')\n",
    "    X_train_fold = X.loc[train_indices, :] \n",
    "    X_test_fold = X.loc[test_indices, :]\n",
    "    y_train_fold = y[train_indices] \n",
    "    y_test_fold = y[test_indices]\n",
    "    fold_lr = LinearRegression()\n",
    "    fold_lr.fit(X_train_fold, y_train_fold)\n",
    "    print(fold_lr.score(X_test_fold, y_test_fold))"
   ]
  },
  {
   "cell_type": "code",
   "execution_count": null,
   "metadata": {},
   "outputs": [],
   "source": []
  },
  {
   "cell_type": "code",
   "execution_count": null,
   "metadata": {},
   "outputs": [],
   "source": []
  },
  {
   "cell_type": "code",
   "execution_count": null,
   "metadata": {},
   "outputs": [],
   "source": []
  },
  {
   "cell_type": "code",
   "execution_count": null,
   "metadata": {},
   "outputs": [],
   "source": []
  }
 ],
 "metadata": {
  "kernelspec": {
   "display_name": "Python 3",
   "language": "python",
   "name": "python3"
  },
  "language_info": {
   "codemirror_mode": {
    "name": "ipython",
    "version": 3
   },
   "file_extension": ".py",
   "mimetype": "text/x-python",
   "name": "python",
   "nbconvert_exporter": "python",
   "pygments_lexer": "ipython3",
<<<<<<< HEAD
   "version": "3.6.5"
=======
   "version": "3.6.4"
>>>>>>> d69fbd57b2e69dfb43bfc8384a6e1d91753fc4ff
  }
 },
 "nbformat": 4,
 "nbformat_minor": 2
}
